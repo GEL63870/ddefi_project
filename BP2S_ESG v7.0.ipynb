{
 "cells": [
  {
   "cell_type": "markdown",
   "metadata": {},
   "source": [
    "<h1><u><center> Economic Scenario Generator Project - Projet DDEFI </center></u></h1>\n",
    "<img src = \"https://www.econostrum.info/photo/art/grande/36648656-32651177.jpg?v=1566465679\" \n",
    "     title = \"NASDAQ Logo\" alt = \"Nasdaq Logo\" width=\"300\">\n",
    "\n",
    "<h3><center> Anaïs Auzanneau / Alison Cortesi / Germain Lefebvre / Florent Morin / Vincent Bilger</center></h3>\n",
    "\n",
    "<h4><center> - </h4></center>\n",
    "<h4><center> École Centrale Marseille </h4></center>"
   ]
  },
  {
   "cell_type": "markdown",
   "metadata": {},
   "source": [
    "### Sommaire  <a class=\"anchor\" id=\"sommaire\"></a>\n",
    "\n",
    "[Préliminaire - État de l'art](#Etat_Art)\n",
    "\n",
    "* [0 - Importation des ressources](#chapter0)\n",
    "    * [Important : Définition de la classe \"Series\"](#chapter0.important)\n",
    "\n",
    "\n",
    "* [I - Préparation de notre data set pour la simulation](#chapter1)\n",
    "    * [I.1 - Conversion des données en rendements logarithmiques](#chapter1.1)\n",
    "    * [Complément : Modélisation d'une portefeuille d'actions pondéré](#chapter1.complement)\n",
    "    * [I.2 - Split de notre data set](#chapter1.2)\n",
    "    \n",
    "    \n",
    "* [II - Modélisation paramétrique](#chapter2)\n",
    "    * [II.1  Modèle GARCH(p,q)](#chapter2.section1)\n",
    "    * [II.2 - Simulations grâce à notre modèle GARCH(p,q)](#chapter2.section2)\n",
    "\n",
    "        \n",
    "* [III- Bootstrapping](#chapter3)\n",
    "\n",
    "\n",
    "* [IV - Filtred Historical Simulation ](#chapter4)\n",
    "\n",
    "\n",
    "* [V - Fonction de performance](#chapter5) \n",
    "    * [V.1 - Fonctions de mesures](#chapter5.section1)\n",
    "    * [V.2 - Fonction Describe](#chapter5.section2)\n",
    "    * [V.3 - Comparaison des prévisions par boostrapping, par FHS et GARCH(p,q)](#chapter5.section3)\n",
    "\n",
    "\n"
   ]
  },
  {
   "cell_type": "markdown",
   "metadata": {},
   "source": [
    "## Prélimianires - État de l'art <a class=\"anchor\" id=\"Etat_Art\"></a>"
   ]
  },
  {
   "cell_type": "markdown",
   "metadata": {},
   "source": [
    "{Insert Etat de l'art sur les documents fourni}"
   ]
  },
  {
   "cell_type": "markdown",
   "metadata": {},
   "source": [
    "## 0 - Importation des ressources <a class=\"anchor\" id=\"chapter0\"></a>"
   ]
  },
  {
   "cell_type": "code",
   "execution_count": 10,
   "metadata": {},
   "outputs": [],
   "source": [
    "# conda install -c saravji pmdarima\n",
    "# conda install -c conda-forge statsmodels\n",
    "\n",
    "import pandas as pd                                       #Used in all section\n",
    "import numpy as np                                        #Used in all section\n",
    "from math import *                                        #Used in all section\n",
    "\n",
    "import time                                               #Used in section 0\n",
    "import datetime                                           #Used in section 0\n",
    "from datetime import date                                 #Used in section 0\n",
    "\n",
    "\n",
    "import warnings\n",
    "from statsmodels.tools.sm_exceptions import ValueWarning\n",
    "warnings.simplefilter('ignore', ValueWarning)\n",
    "from statsmodels.tools.sm_exceptions import ConvergenceWarning\n",
    "warnings.simplefilter('ignore', ConvergenceWarning)\n",
    "\n",
    "\n",
    "import random                                             #Used in section 4 and 5\n",
    "import matplotlib.pyplot as plt                           #Used in all section\n",
    "import plotly.graph_objects as go                         #Used in section 4.3\n",
    "plt.style.use('ggplot')\n",
    "from statsmodels.stats.weightstats import ztest           #Used in section 6.1\n",
    "from scipy import stats                                   #Used in section 6.1\n",
    "from scipy.stats import f_oneway                          #Used in section 6.1 \n",
    "from scipy.stats import mannwhitneyu                      #Used in section 6.1\n",
    "from scipy.stats import wasserstein_distance              #Used in section 6.1\n",
    "from scipy.stats import wilcoxon                          #Used in section 6.1 "
   ]
  },
  {
   "cell_type": "markdown",
   "metadata": {},
   "source": [
    "$! Attention !$ Ne pas oublier de changer le chemin ci-dessous en fonction de l'utilisateur afin d'arriver au fichier contenant les bases de données."
   ]
  },
  {
   "cell_type": "code",
   "execution_count": 11,
   "metadata": {},
   "outputs": [],
   "source": [
    "# root_path = 'C:/Users/anais/Documents/Centrale/Cours/3A/DDEFi/Projet DDEFi/Ressources/Data/'      #Anais\n",
    "root_path = 'C:/Users/33649/Desktop/A3/Projet DDEFI/BP2S/Code_Data_2020/BDD/'                         #Germain\n",
    "#root_path = 'C:/Users/flomo/Desktop/Projet BNP/Data/'                                             #Florent\n",
    "# root_path = 'C:/Users/Vincent/Desktop/PROJET DDEFI/DATA/'                                         #Vincent\n",
    "# root_path = 'C:/Users/alisoncortesi/Desktop/ECM_3A/OPT_DDEFI/TC_PROJDDEFI                         #Alison\n",
    "# root_path = 'D:/Utilisateurs/JLEQ/BP2S/Datas/'                                                    #Julien"
   ]
  },
  {
   "cell_type": "markdown",
   "metadata": {},
   "source": [
    "Importation de nos 3 bases d'indices afin de pouvoir selectionner les données souhaitées."
   ]
  },
  {
   "cell_type": "code",
   "execution_count": 12,
   "metadata": {},
   "outputs": [],
   "source": [
    "Actions = pd.read_csv(root_path+'BDD_Index.csv')\n",
    "Taux = pd.read_csv(root_path+'BDD_Rates.csv')\n",
    "Echanges = pd.read_csv(root_path+'BDD_Exchange.csv')\n",
    "Stocks = pd.read_csv(root_path+'StoxxSnP500_3.csv')\n",
    "\n",
    "Actions['Date'] = pd.to_datetime(Actions['Date'])\n",
    "Actions = Actions.set_index(keys = 'Date', drop = True)\n",
    "\n",
    "Stocks['Date'] = pd.to_datetime(Stocks['Date'])\n",
    "Stocks = Stocks.set_index(keys = 'Date', drop = True)\n",
    "\n",
    "Taux['Date'] = pd.to_datetime(Taux['Date'])\n",
    "Taux = Taux.set_index(keys = 'Date', drop = True)\n",
    "\n",
    "Echanges['Date'] = pd.to_datetime(Echanges['Date'])\n",
    "Echanges = Echanges.set_index(keys = 'Date', drop = True)\n"
   ]
  },
  {
   "cell_type": "markdown",
   "metadata": {},
   "source": [
    "Importation des bases de données générées par les GAN (Stocks & Taux)"
   ]
  },
  {
   "cell_type": "code",
   "execution_count": 13,
   "metadata": {},
   "outputs": [
    {
     "name": "stderr",
     "output_type": "stream",
     "text": [
      "Cloning into 'ddefi_project'...\n",
      "Updating files:  60% (105/173)\n",
      "Updating files:  61% (106/173)\n",
      "Updating files:  62% (108/173)\n",
      "Updating files:  63% (109/173)\n",
      "Updating files:  64% (111/173)\n",
      "Updating files:  65% (113/173)\n",
      "Updating files:  66% (115/173)\n",
      "Updating files:  67% (116/173)\n",
      "Updating files:  68% (118/173)\n",
      "Updating files:  69% (120/173)\n",
      "Updating files:  70% (122/173)\n",
      "Updating files:  71% (123/173)\n",
      "Updating files:  72% (125/173)\n",
      "Updating files:  73% (127/173)\n",
      "Updating files:  74% (129/173)\n",
      "Updating files:  75% (130/173)\n",
      "Updating files:  76% (132/173)\n",
      "Updating files:  77% (134/173)\n",
      "Updating files:  78% (135/173)\n",
      "Updating files:  79% (137/173)\n",
      "Updating files:  80% (139/173)\n",
      "Updating files:  81% (141/173)\n",
      "Updating files:  82% (142/173)\n",
      "Updating files:  83% (144/173)\n",
      "Updating files:  84% (146/173)\n",
      "Updating files:  85% (148/173)\n",
      "Updating files:  86% (149/173)\n",
      "Updating files:  87% (151/173)\n",
      "Updating files:  88% (153/173)\n",
      "Updating files:  89% (154/173)\n",
      "Updating files:  90% (156/173)\n",
      "Updating files:  91% (158/173)\n",
      "Updating files:  92% (160/173)\n",
      "Updating files:  93% (161/173)\n",
      "Updating files:  94% (163/173)\n",
      "Updating files:  95% (165/173)\n",
      "Updating files:  96% (167/173)\n",
      "Updating files:  97% (168/173)\n",
      "Updating files:  98% (170/173)\n",
      "Updating files:  99% (172/173)\n",
      "Updating files: 100% (173/173)\n",
      "Updating files: 100% (173/173), done.\n"
     ]
    }
   ],
   "source": [
    "# Clone les données présentes dans le git\n",
    "!git clone https://github.com/GEL63870/ddefi_project.git\n",
    "\n",
    "#Chargement des données\n",
    "!cd ddefi_project"
   ]
  },
  {
   "cell_type": "code",
   "execution_count": 23,
   "metadata": {},
   "outputs": [],
   "source": [
    "# Nouveau Root_path\n",
    "root = 'C:/Users/33649/Desktop/A3/Projet DDEFI/BP2S/Code_Data_2020/ddefi_project/Generated_data/'           #Germain LEFEBVRE\n",
    "\n",
    "# Récupérer les BDD du GAN\n",
    "GAN_Stocks = np.load(root + 'np_model_stocks3.h5.npy')\n",
    "GAN_Taux = np.load(root + 'np_model_Taux.h5.npy')"
   ]
  },
  {
   "cell_type": "markdown",
   "metadata": {},
   "source": [
    "Afin de mieux visualiser les données à notre disposition, nous commençons par tracer l'évolution temporelle de nos données brutes."
   ]
  },
  {
   "cell_type": "code",
   "execution_count": 24,
   "metadata": {},
   "outputs": [
    {
     "data": {
      "text/plain": [
       "<matplotlib.axes._subplots.AxesSubplot at 0x2151885ecd0>"
      ]
     },
     "execution_count": 24,
     "metadata": {},
     "output_type": "execute_result"
    },
    {
     "data": {
      "image/png": "[encoded data removed]",
      "text/plain": [
       "<Figure size 432x288 with 1 Axes>"
      ]
     },
     "metadata": {},
     "output_type": "display_data"
    },
    {
     "data": {
      "image/png": "[encoded data removed]",
      "text/plain": [
       "<Figure size 432x288 with 1 Axes>"
      ]
     },
     "metadata": {},
     "output_type": "display_data"
    },
    {
     "data": {
      "image/png": "[encoded data removed]",
      "text/plain": [
       "<Figure size 432x288 with 1 Axes>"
      ]
     },
     "metadata": {},
     "output_type": "display_data"
    },
    {
     "data": {
      "image/png": "[encoded data removed]",
      "text/plain": [
       "<Figure size 432x288 with 1 Axes>"
      ]
     },
     "metadata": {},
     "output_type": "display_data"
    }
   ],
   "source": [
    "Actions.plot()\n",
    "Taux.plot()\n",
    "Echanges.plot()\n",
    "Stocks.plot()"
   ]
  },
  {
   "attachments": {
    "image.png": {
     "image/png": "[encoded data removed]"
    }
   },
   "cell_type": "markdown",
   "metadata": {},
   "source": [
    "Afin de pouvoir étudier un panel important de données, et notamment des taux, nous importons ici un grand nombre de fichier.\n",
    "Dans un premier temps, toutes les données importées ne seront pas utilisées.\n",
    "Dans les 6 prochains chapitres, nous ne nous interesserons qu'aux deux indices STOXX50 et S&P500.\n",
    "\n",
    "Ci-dessous, un schéma récapitulatif des données aggrégées : \n",
    "\n",
    "![image.png](attachment:image.png)"
   ]
  },
  {
   "cell_type": "markdown",
   "metadata": {},
   "source": [
    "### Fonctions Statistiques"
   ]
  },
  {
   "cell_type": "code",
   "execution_count": 25,
   "metadata": {},
   "outputs": [],
   "source": [
    "#This function calculates the absolute median deviation of a distribution function.\n",
    "def Median_Abs_dev(data):    \n",
    "    mads =[]\n",
    "    for col in data.columns:\n",
    "        series = data[col]\n",
    "        mads.append(series.mad())\n",
    "    return(mads)\n",
    "    \n",
    "#This function calculates the skewness value of a distribution function    \n",
    "def skewness(data):    \n",
    "    skews =[]\n",
    "    for col in data.columns:\n",
    "        series = data[col]\n",
    "        skews.append(series.skew())\n",
    "    return(skews)\n",
    "\n",
    "#This function calculates the kurtosis value of a distribution function\n",
    "def kurtosis(data):\n",
    "    kurtos =[]\n",
    "    for col in data.columns:\n",
    "        series = data[col]\n",
    "        kurtos.append(series.kurt())\n",
    "    return(kurtos)\n",
    "    \n",
    "    \n",
    "#  ! WARNING ! -> This function calculates the Z-Score of one distribution.\n",
    "# The 1st index of the general Dataframe MUST be the Training Set or Testing Set column\n",
    "def Z_score(data, percentage_test) :\n",
    "    stat_val = []\n",
    "    res_p_val = []\n",
    "    res_pct_test = []\n",
    "    for col in data.columns:\n",
    "        if col == 'Testing Set':\n",
    "            stat_val.append('NaN')\n",
    "            res_p_val.append('NaN')\n",
    "            res_pct_test.append('NaN')\n",
    "        else:\n",
    "            series = data[col]\n",
    "            stat_val.append(ztest(np.array(data['Testing Set']) , np.array(data[col]))[0])\n",
    "            res_p_val.append(ztest(np.array(data['Testing Set']) , np.array(data[col]))[1])\n",
    "            if float(ztest(np.array(data['Testing Set']) , np.array(data[col]))[1]) >= float(percentage_test):\n",
    "                res_pct_test.append(1)\n",
    "            else: \n",
    "                res_pct_test.append(0)\n",
    "        \n",
    "    return (stat_val, res_pct_test)        \n",
    "\n",
    "    \n",
    "#  ! WARNING ! -> This function calculates the t-Score of two distribution.\n",
    "# The 1st index of the general Dataframe MUST be the Training Set or Testing Set column\n",
    "def t_score(data, percentage_test) :\n",
    "    stat_val = []\n",
    "    res_p_val = []\n",
    "    res_pct_test = []\n",
    "    for col in data.columns:\n",
    "        if col == 'Testing Set':\n",
    "            stat_val.append('NaN')\n",
    "            res_p_val.append('NaN')\n",
    "            res_pct_test.append('NaN')\n",
    "        \n",
    "        else:\n",
    "            series = data[col]\n",
    "            stat_val.append(stats.ttest_ind(np.array(data['Testing Set']) , np.array(data[col]))[0])\n",
    "            res_p_val.append(stats.ttest_ind(np.array(data['Testing Set']) , np.array(data[col]))[1])\n",
    "            if float(ztest(np.array(data['Testing Set']) , np.array(data[col]))[1]) >= float(percentage_test):\n",
    "                res_pct_test.append(1)\n",
    "            else: \n",
    "                res_pct_test.append(0)\n",
    "        \n",
    "    return (stat_val, res_pct_test)     \n",
    "\n",
    "    \n",
    "#  ! WARNING ! -> This function calculates the F-test of two distributions\n",
    "# The 1st index of the general Dataframe MUST be the Training Set or Testing Set column\n",
    "def F_test(data, percentage_test):\n",
    "    stat_val = []\n",
    "    res_p_val = []\n",
    "    res_pct_test = []\n",
    "    for col in data.columns:\n",
    "        if col == 'Testing Set':\n",
    "            stat_val.append('NaN')\n",
    "            res_p_val.append('NaN')\n",
    "            res_pct_test.append('NaN')\n",
    "        else:\n",
    "            series = data[col]\n",
    "            stat_val.append(f_oneway(np.array(data['Testing Set']) , np.array(data[col]))[0])\n",
    "            res_p_val.append(f_oneway(np.array(data['Testing Set']) , np.array(data[col]))[1])\n",
    "            if float(ztest(np.array(data['Testing Set']) , np.array(data[col]))[1]) >= float(percentage_test):\n",
    "                res_pct_test.append(1)\n",
    "            else: \n",
    "                res_pct_test.append(0)\n",
    "        \n",
    "    return (stat_val, res_pct_test)     \n",
    "\n",
    "    \n",
    "#  ! WARNING ! -> This function calculates the Wilcoxon Test between two distributions.\n",
    "# The 1st index of the general Dataframe MUST be the Training Set or Testing Set column\n",
    "def Wilcoxon(data, percentage_test) :\n",
    "    stat_val = []\n",
    "    res_p_val = []\n",
    "    res_pct_test = []\n",
    "    for col in data.columns:\n",
    "        if col == 'Testing Set':\n",
    "            stat_val.append('NaN')\n",
    "            res_p_val.append('NaN')\n",
    "            res_pct_test.append('NaN')\n",
    "        else:\n",
    "            series = data[col] \n",
    "            stat_val.append(wilcoxon(np.array(data['Testing Set']) , np.array(data[col]))[0])\n",
    "            res_p_val.append(wilcoxon(np.array(data['Testing Set']) , np.array(data[col]))[1])\n",
    "            if float(ztest(np.array(data['Testing Set']) , np.array(data[col]))[1]) >= float(percentage_test):\n",
    "                res_pct_test.append(1)\n",
    "            else: \n",
    "                res_pct_test.append(0)\n",
    "        \n",
    "    return (stat_val, res_pct_test)     \n",
    "\n",
    "\n",
    "#  ! WARNING ! -> This function calculates the Mann_Whitneyu Test between two distributions.\n",
    "# The 1st index of the general Dataframe MUST be the Training Set or Testing Set column\n",
    "def Mann_Whitneyu(data, percentage_test) :\n",
    "    stat_val = []\n",
    "    res_p_val = []\n",
    "    res_pct_test = []\n",
    "    for col in data.columns:\n",
    "        if col == 'Testing Set':\n",
    "            stat_val.append('NaN')\n",
    "            res_p_val.append('NaN')\n",
    "            res_pct_test.append('NaN')\n",
    "        else:\n",
    "            series = data[col]\n",
    "            stat_val.append(mannwhitneyu(np.array(data['Testing Set']) , np.array(data[col]))[0])\n",
    "            res_p_val.append(mannwhitneyu(np.array(data['Testing Set']) , np.array(data[col]))[1])\n",
    "            if float(ztest(np.array(data['Testing Set']) , np.array(data[col]))[1]) >= float(percentage_test):\n",
    "                res_pct_test.append(1)\n",
    "            else: \n",
    "                res_pct_test.append(0)\n",
    "        \n",
    "    return (stat_val, res_pct_test)     \n",
    "\n",
    "\n",
    "#  ! WARNING ! -> This function calculates the Hellinger distance between two distributions.\n",
    "# The 1st index of the general Dataframe MUST be the Training Set or Testing Set column\n",
    "def Wasserstein(data) :\n",
    "    res = []\n",
    "    for col in data.columns:\n",
    "        series = data[col]\n",
    "        res.append(wasserstein_distance(data['Testing Set'], data[col]))\n",
    "    return(res)\n"
   ]
  },
  {
   "cell_type": "markdown",
   "metadata": {},
   "source": [
    "### <u> Important </u> : Définition de la classe \"Series\"  <a class=\"anchor\" id=\"chapter0.important\"></a>"
   ]
  },
  {
   "cell_type": "code",
   "execution_count": 26,
   "metadata": {},
   "outputs": [],
   "source": [
    "class Series:\n",
    "    \n",
    "    def __init__(self, name, values, type_serie, gan_values, ticker_gan):\n",
    "        self.name = name # nom de la série\n",
    "        self.values = values # dataframe des valeurs\n",
    "        self.type_serie = type_serie\n",
    "        self.gan_values = gan_values  #generated data du GAN\n",
    "        self.ticker_gan = ticker_gan  #Selectionner la bonne colonne du GAN\n",
    "    \n",
    "    # Fonction qui plot les données\n",
    "    def visualization(self):\n",
    "        plt.plot(self.values)\n",
    "        plt.xlabel('Date')\n",
    "        plt.ylabel('Price')\n",
    "        plt.title('Evolution of ' + self.name)\n",
    "    \n",
    "    # Fonction qui plot et retourne le tableau des valeurs des rendements\n",
    "    def returns(self):\n",
    "        if self.type_serie == \"Action\":\n",
    "            var_pct = self.values.pct_change().dropna()\n",
    "            rdmt = np.log(1 + var_pct)\n",
    "        if self.type_serie == \"Taux\":\n",
    "            rdmt = self.values.diff().dropna()\n",
    "        plt.plot(rdmt)\n",
    "        plt.xlabel('Date')\n",
    "        plt.ylabel('Return')\n",
    "        plt.title('Daily Logarithmic Returns for ' + self.name)\n",
    "        return(rdmt)\n",
    "    \n",
    "    # Fonction qui renvoie la partie \"training\" du dataset\n",
    "    def split_data(self):\n",
    "        ret = self.returns()\n",
    "        plt.close()\n",
    "        T = ceil(len(ret.index)*0.8)\n",
    "        train = ret[:T]     \n",
    "        test = ret[T:]\n",
    "        return(train, test)\n",
    "    \n",
    " \n",
    "    # Fonction qui utilise la méthode HS (simple bootstrap) pour prédire les rendements/prix\n",
    "    def historical_simulation(self,nb_paths):\n",
    "        training_data, testing_data  = self.split_data()\n",
    "        depart = float(self.values.iloc[len(training_data)-1])\n",
    "        \n",
    "        # Boostrapping\n",
    "        random.seed(43)\n",
    "        bootstrapped_returns = pd.DataFrame([random.choices(list(training_data.iloc[:,0]), k=len(testing_data)) for i in range(nb_paths)]).T\n",
    "        bootstrapped_returns.index = testing_data.index\n",
    "        \n",
    "        res = bootstrapped_returns\n",
    "        #Graphique 1\n",
    "        bootstrapped_returns.plot(figsize=(15,8), legend=False, linewidth=1, alpha=0.2)\n",
    "        plt.title('Rendements bootstrappés, nombre de chemins = '+str(nb_paths))\n",
    "        bootstrapped_returns.quantile(0.05,1).plot(label='Quantile 95%',color='b')\n",
    "        bootstrapped_returns.quantile(0.95,1).plot(label='Quantile 5%',color='b')\n",
    "        bootstrapped_returns.mean(1).plot(label='Moyenne',color='r')\n",
    "        \n",
    "        #Graphique 2\n",
    "        data=self.values\n",
    "        bootstrapped_prices = (1+bootstrapped_returns).shift(1).fillna(depart).cumprod()\n",
    "        bootstrapped_prices.index = testing_data.index\n",
    "        bootstrapped_prices.plot(figsize=(15,8), legend=False, linewidth=1, alpha=0.2)\n",
    "        if self.type_serie == \"Action\":\n",
    "            plt.title('Scénarios de prix, nombre de chemins = '+str(nb_paths))\n",
    "        if self.type_serie == \"Taux\":\n",
    "            plt.title('Scénarios de taux interet, nombre de chemins = '+str(nb_paths))\n",
    "        plt.plot(data,color ='black')\n",
    "        bootstrapped_prices.quantile(0.05,1).plot(label='Quantile 95%',color='b')\n",
    "        bootstrapped_prices.quantile(0.95,1).plot(label='Quantile 5%',color='b')\n",
    "        bootstrapped_prices.mean(1).plot(label='Moyenne',color='r')\n",
    "\n",
    "        return(res)\n",
    "    \n",
    "    \n",
    "    ## Fonction qui utilise la méthode FHS (bootstrapping sur rendements standardisés, avec fenêtre glissante pour le calcul de la vol.) pour prédire les rendements/prix    \n",
    "    def filtered_historical_simulation_glissant(self,nb_paths,len_fenetre):          \n",
    "        \n",
    "        training_data, testing_data = self.split_data()\n",
    "        depart = float(self.values.iloc[len(training_data)])\n",
    "        \n",
    "        ######## Filtration - Fenetre glissante ########\n",
    "        vol = []\n",
    "        for i in range(len_fenetre,len(training_data)):\n",
    "            vol.append(np.std(training_data[self.name][i-len_fenetre:i]))\n",
    "        vol2 = [vol[0] for i in range(0, len_fenetre)]\n",
    "        vol2.extend(vol)\n",
    "        vol2 = pd.DataFrame(vol2, columns = ['vol'])\n",
    "        vol2.index = training_data.index\n",
    "        vol2['rdt_std'] = training_data[self.name]/vol2['vol']\n",
    "        vol2[self.name] = training_data[self.name]\n",
    "        \n",
    "        init_copy_vol2 = vol2\n",
    "        ######## Boostrapping - 'Nb_paths' scénarios de longueur 'Testing_data' ########\n",
    "        filtred_bootstrapped_returns = pd.DataFrame([random.choices(list(vol2['rdt_std']), k=len(testing_data)) for i in range(nb_paths)]).T\n",
    "        \n",
    "        res = pd.DataFrame([])\n",
    "        for i in range(0,nb_paths):\n",
    "            vol2 = init_copy_vol2\n",
    "            for j in range(0,len(testing_data)):\n",
    "                vol = vol2['vol'].iloc[-1]                        #Voir excel \n",
    "                rdtstd = filtred_bootstrapped_returns[i][j]               #Voir excel\n",
    "                stoxx = vol * rdtstd                              #Voir excel\n",
    "                list_rdt = list(vol2[self.name][-len_fenetre-1:]) #Sliding window de 20, on prend les 19 dernières valeurs +\n",
    "                list_rdt.append(stoxx)                            #la 20ème valeur\n",
    "                vol = np.std(list_rdt)\n",
    "                add = pd.DataFrame([[vol, rdtstd, stoxx]])        #Mise en forme des données générés\n",
    "                \n",
    "                ## Ajout au dataframe calculé dans la partie 1\n",
    "                add.columns = vol2.columns                        \n",
    "                vol2 = vol2.append(add)\n",
    "            \n",
    "            ## Ajout du scenario FHS généré dans le fichier de sauvegarde\n",
    "            idx = str(i)\n",
    "            res[idx] = vol2[self.name][-len(testing_data):]\n",
    "        \n",
    "        ## Mise en forme de l'ensemble des scénari FHS générés\n",
    "        res.index = testing_data.index\n",
    "        filtred_bootstrapped_returns = res\n",
    "            \n",
    "        ##Graphique 1\n",
    "        filtred_bootstrapped_returns.plot(figsize=(15,8), legend=False, linewidth=1, alpha=0.2)\n",
    "        plt.title('Rendements bootstrappés, nombre de chemins = '+str(nb_paths))\n",
    "        filtred_bootstrapped_returns.quantile(0.05,1).plot(label='Quantile 95%',color='b')\n",
    "        filtred_bootstrapped_returns.quantile(0.95,1).plot(label='Quantile 5%',color='b')\n",
    "        filtred_bootstrapped_returns.mean(1).plot(label='Moyenne',color='r')\n",
    "        \n",
    "        #Graphique 2\n",
    "        data=self.values\n",
    "        bootstrapped_prices = (1+filtred_bootstrapped_returns).shift(1).fillna(depart).cumprod()\n",
    "        bootstrapped_prices.index = testing_data.index\n",
    "        bootstrapped_prices.plot(figsize=(15,8), legend=False, linewidth=1, alpha=0.2)\n",
    "        if self.type_serie == \"Action\":\n",
    "            plt.title('Scénarios de prix, nombre de chemins = '+str(nb_paths))\n",
    "        if self.type_serie == \"Taux\":\n",
    "            plt.title('Scénarios de taux interet, nombre de chemins = '+str(nb_paths))\n",
    "        plt.plot(data,color ='black')\n",
    "        bootstrapped_prices.quantile(0.05,1).plot(label='Quantile 95%',color='b')\n",
    "        bootstrapped_prices.quantile(0.95,1).plot(label='Quantile 5%',color='b')\n",
    "        bootstrapped_prices.mean(1).plot(label='Moyenne',color='r')\n",
    "        \n",
    "        return(filtred_bootstrapped_returns)\n",
    "\n",
    "    ##############################################################################\n",
    "    ##############################################################################\n",
    "    ##############################################################################\n",
    "    ##############################################################################\n",
    "    ##############################################################################\n",
    "    ##############################################################################\n",
    "\n",
    "    # Fonction qui utilise les données issues du GAN pour prédire les rendements/prix\n",
    "    def gan_simulation(self):\n",
    "        \n",
    "        #Importation du testing set\n",
    "        training_data, testing_data = self.split_data()\n",
    "        len_test = len(testing_data)\n",
    "\n",
    "        depart = float(self.values.iloc[len(training_data)]) #Pour le graph 2\n",
    "      \n",
    "        #Importation des données du GAN\n",
    "        generated_data = self.gan_values\n",
    "        ticker_gan = self.ticker_gan\n",
    "        nbr_seq = len(generated_data)\n",
    "        seq_len = len(generated_data[0])\n",
    "\n",
    "        # Préparation des boucles : \n",
    "        seq_per_path = int(len_test/seq_len) + 1\n",
    "        path_per_data = int(nbr_seq/seq_per_path)\n",
    "\n",
    "        #Création des scénarios à partir des séquences de 24:\n",
    "        transpo = []\n",
    "      \n",
    "        gan_returns = pd.DataFrame()\n",
    "    \n",
    "        # Création du dataframe de scénarios\n",
    "        for j in range(path_per_data):\n",
    "            paths = []\n",
    "            for i in range(j*seq_len, j*seq_len + seq_per_path + 1):\n",
    "                transpo = generated_data[i].T\n",
    "                paths = paths + list(transpo[ticker_gan])     # Numéro de la colonne que l'on veut dans le GAN (exemple SP500 placé en 0) \n",
    "        \n",
    "        # On rabote le scénario pour qu'il soit à la bonne taille - On en ajoute 1 pour anticiper le Nan issu du calcul de rendement\n",
    "            diff = len(paths) - len_test\n",
    "            if diff != 0:\n",
    "                paths = paths[:len(paths)- diff + 1] \n",
    "\n",
    "            # Ajout du path crée dans le dataframe GAN\n",
    "            gan_returns[j+1] = paths\n",
    "\n",
    "        # Mise en forme du dataframe - Rendements !\n",
    "        if self.type_serie == \"Action\":\n",
    "            var_pct = gan_returns.pct_change().dropna()\n",
    "            gan_rdmt = np.log(1 + var_pct)\n",
    "        if self.type_serie == \"Taux\":\n",
    "            gan_rdmt = gan_returns.diff().dropna()\n",
    "\n",
    "        # La ligne en trop a été drop grâce au Dropna, on finit avec les bons index\n",
    "        gan_rdmt.index = testing_data.index\n",
    "\n",
    "        #Graphique 1\n",
    "        gan_rdmt.plot(figsize=(15,8), legend=False, linewidth=1, alpha=0.2)\n",
    "        plt.title('Rendements GAN, nombre de chemins = '+str(path_per_data))\n",
    "        gan_rdmt.quantile(0.05,1).plot(label='Quantile 95%',color='b')  \n",
    "        gan_rdmt.quantile(0.95,1).plot(label='Quantile 5%',color='b')\n",
    "        gan_rdmt.mean(1).plot(label='Moyenne',color='r')\n",
    "        \n",
    "        # ## Graphique 2\n",
    "        # data=self.values\n",
    "        # # gan_returns = (1+gan_returns).shift(1).fillna(depart).cumprod()\n",
    "        # # gan_returns.index = testing_data.index\n",
    "        # # gan_returns.plot(figsize=(15,8), legend=False, linewidth=1, alpha=0.2)\n",
    "        # # if self.type_serie == \"Action\":\n",
    "        # #   plt.title('Scénarios de prix, nombre de chemins = '+str(path_per_data))\n",
    "        # # if self.type_serie == \"Taux\":\n",
    "        # #   plt.title('Scénarios de taux interet, nombre de chemins = '+str(path_per_data))\n",
    "        # plt.plot(data,color ='black')\n",
    "        # gan_returns.quantile(0.05,1).plot(label='Quantile 95%',color='b')\n",
    "        # gan_returns.quantile(0.95,1).plot(label='Quantile 5%',color='b')\n",
    "        # gan_returns.mean(1).plot(label='Moyenne',color='r')\n",
    "\n",
    "        return (gan_rdmt)\n",
    "\n",
    "\n",
    "    # Fonction qui compare les résultats de nos différentes méthodes\n",
    "    def describe(self, nb_paths, len_fenetre, percentage_test):\n",
    "        \n",
    "        ##On recup les DataFrame de 667x500 issus de HS & FHS\n",
    "        simulated_data_HS = self.historical_simulation(nb_paths)\n",
    "        plt.close()\n",
    "        simulated_data_FHS_glissant = self.filtered_historical_simulation_glissant(nb_paths, len_fenetre)\n",
    "        plt.close()\n",
    "        simulated_data_GAN = self.gan_simulation()\n",
    "        plt.close()\n",
    "        training_data, testing_data = self.split_data()\n",
    "        plt.close()\n",
    "        plt.clf()\n",
    "               \n",
    "        #################################################################################################\n",
    "        ###################### Réalisation du DataFrame Describe des scénarios HS #######################\n",
    "        #################################################################################################        \n",
    "        \n",
    "        ## On prépare le DataFrame \n",
    "        Data_hs = pd.DataFrame({'Testing Set' : list(testing_data.iloc[:,0])}, index=testing_data.index)\n",
    "        Data_hs = pd.concat([Data_hs, simulated_data_HS], axis = 1)\n",
    "        \n",
    "        ## Première opération classique ne necessitant pas de comparaison \n",
    "        res_hs = Data_hs.describe()             #Create the table with Mean / std / Min / 1st quartile / Meadian /1 3rd quartile / Max\n",
    "        res_hs.loc['Median Absolute Deviation'] = Median_Abs_dev(Data_hs) #Add MAD measurement to the recap table\n",
    "        res_hs.loc['skew'] = skewness(Data_hs)                                   #Add skew measurement to the recap table\n",
    "        res_hs.loc['kurtosis'] = kurtosis(Data_hs)                               #Add kurtosis measurement to the recap table\n",
    "        \n",
    "        ## Marche uniquement si notre Dataframe à 2 indices ou plus\n",
    "        if len(Data_hs.columns) > 1 : \n",
    "            res_hs.loc['Wasserstein Distance'] = Wasserstein(Data_hs)\n",
    "            res_hs.loc['Wilcoxon Test'] = Wilcoxon(Data_hs, percentage_test)[0]\n",
    "            res_hs.loc['Wilcoxon H0 % Acceptance'] = Wilcoxon(Data_hs, percentage_test)[1]\n",
    "            res_hs.loc['Mann-Whitneyu Test'] = Mann_Whitneyu(Data_hs, percentage_test)[0]\n",
    "            res_hs.loc['Mann-Whitneyu H0 % Acceptance'] = Mann_Whitneyu(Data_hs, percentage_test)[1]\n",
    "            res_hs.loc['F_test'] = F_test(Data_hs, percentage_test)[0]\n",
    "            res_hs.loc['F_test H0 % Acceptance'] = F_test(Data_hs, percentage_test)[1]\n",
    "            res_hs.loc['t_test'] = t_score(Data_hs, percentage_test)[0]\n",
    "            res_hs.loc['t_test H0 % Acceptance'] = t_score(Data_hs, percentage_test)[1] \n",
    "            res_hs.loc['Z_test'] = Z_score(Data_hs, percentage_test)[0]\n",
    "            res_hs.loc['Z_test H0 % Acceptance'] = Z_score(Data_hs, percentage_test)[1]\n",
    "        \n",
    "        #################################################################################################\n",
    "        ##################### Réalisation du DataFrame Describe des scénarios FHS #######################\n",
    "        #################################################################################################\n",
    "        Data_fhs = pd.DataFrame({'Testing Set' : list(testing_data.iloc[:,0])}, index=testing_data.index)\n",
    "        Data_fhs = pd.concat([Data_fhs, simulated_data_FHS_glissant], axis = 1)\n",
    "        \n",
    "        ## Première opération classique ne necessitant pas de comparaison \n",
    "        res_fhs = Data_fhs.describe()             #Create the table with Mean / std / Min / 1st quartile / Meadian /1 3rd quartile / Max\n",
    "        res_fhs.loc['Median Absolute Deviation'] = Median_Abs_dev(Data_fhs) #Add MAD measurement to the recap table\n",
    "        res_fhs.loc['skew'] = skewness(Data_fhs)                                   #Add skew measurement to the recap table\n",
    "        res_fhs.loc['kurtosis'] = kurtosis(Data_fhs)                               #Add kurtosis measurement to the recap table\n",
    "        \n",
    "        ## Marche uniquement si notre Dataframe à 2 indices ou plus\n",
    "        if len(Data_fhs.columns) > 1 : \n",
    "            res_fhs.loc['Wasserstein Distance'] = Wasserstein(Data_fhs)\n",
    "            res_fhs.loc['Wilcoxon Test'] = Wilcoxon(Data_fhs, percentage_test)[0]\n",
    "            res_fhs.loc['Wilcoxon H0 % Acceptance'] = Wilcoxon(Data_fhs, percentage_test)[1]\n",
    "            res_fhs.loc['Mann-Whitneyu Test'] = Mann_Whitneyu(Data_fhs, percentage_test)[0]\n",
    "            res_fhs.loc['Mann-Whitneyu H0 % Acceptance'] = Mann_Whitneyu(Data_fhs, percentage_test)[1]\n",
    "            res_fhs.loc['F_test'] = F_test(Data_fhs, percentage_test)[0]\n",
    "            res_fhs.loc['F_test H0 % Acceptance'] = F_test(Data_fhs, percentage_test)[1]\n",
    "            res_fhs.loc['t_test'] = t_score(Data_fhs, percentage_test)[0]\n",
    "            res_fhs.loc['t_test H0 % Acceptance'] = t_score(Data_fhs, percentage_test)[1] \n",
    "            res_fhs.loc['Z_test'] = Z_score(Data_fhs, percentage_test)[0]\n",
    "            res_fhs.loc['Z_test H0 % Acceptance'] = Z_score(Data_fhs, percentage_test)[1]\n",
    "        \n",
    "\n",
    "        #################################################################################################\n",
    "        ##################### Réalisation du DataFrame Describe des scénarios GAN #######################\n",
    "        #################################################################################################\n",
    "        Data_GAN = pd.DataFrame({'Testing Set' : list(testing_data.iloc[:,0])}, index=testing_data.index)\n",
    "        Data_GAN  = pd.concat([Data_GAN , simulated_data_GAN], axis = 1)\n",
    "        \n",
    "        ## Première opération classique ne necessitant pas de comparaison \n",
    "        res_GAN = Data_GAN.describe()             #Create the table with Mean / std / Min / 1st quartile / Meadian /1 3rd quartile / Max\n",
    "        res_GAN.loc['Median Absolute Deviation'] = Median_Abs_dev(Data_GAN) #Add MAD measurement to the recap table\n",
    "        res_GAN.loc['skew'] = skewness(Data_GAN)                                   #Add skew measurement to the recap table\n",
    "        res_GAN.loc['kurtosis'] = kurtosis(Data_GAN)                               #Add kurtosis measurement to the recap table\n",
    "        \n",
    "        ## Marche uniquement si notre Dataframe à 2 indices ou plus\n",
    "        if len(Data_GAN.columns) > 1 : \n",
    "            res_GAN.loc['Wasserstein Distance'] = Wasserstein(Data_GAN)\n",
    "            res_GAN.loc['Wilcoxon Test'] = Wilcoxon(Data_GAN, percentage_test)[0]\n",
    "            res_GAN.loc['Wilcoxon H0 % Acceptance'] = Wilcoxon(Data_GAN, percentage_test)[1]\n",
    "            res_GAN.loc['Mann-Whitneyu Test'] = Mann_Whitneyu(Data_GAN, percentage_test)[0]\n",
    "            res_GAN.loc['Mann-Whitneyu H0 % Acceptance'] = Mann_Whitneyu(Data_GAN, percentage_test)[1]\n",
    "            res_GAN.loc['F_test'] = F_test(Data_GAN, percentage_test)[0]\n",
    "            res_GAN.loc['F_test H0 % Acceptance'] = F_test(Data_GAN, percentage_test)[1]\n",
    "            res_GAN.loc['t_test'] = t_score(Data_GAN, percentage_test)[0]\n",
    "            res_GAN.loc['t_test H0 % Acceptance'] = t_score(Data_GAN, percentage_test)[1] \n",
    "            res_GAN.loc['Z_test'] = Z_score(Data_GAN, percentage_test)[0]\n",
    "            res_GAN.loc['Z_test H0 % Acceptance'] = Z_score(Data_GAN, percentage_test)[1]\n",
    "\n",
    "\n",
    "        #################################################################################################\n",
    "        ####### Réalisation Tableau Describe à partir des describe de chaque scénario généré ############\n",
    "        #################################################################################################        \n",
    "        \n",
    "        ## On prépaer notre tableau final\n",
    "        res = pd.DataFrame({'Testing Set' : list(res_hs['Testing Set'])}, index=res_hs.index)\n",
    "        \n",
    "        ## On supprime les columns Testing Set de nos tableaux HS & FHS pour pouvoir réaliser nos comparaisons\n",
    "        res_hs = res_hs.drop(columns=['Testing Set'])\n",
    "        res_fhs = res_fhs.drop(columns=['Testing Set'])\n",
    "        res_GAN = res_GAN.drop(columns=['Testing Set'])\n",
    "        \n",
    "        ## On prépare les dataframe des moyennes de chacunes des mesures effectuées\n",
    "        hs_df = pd.DataFrame({'Historical Simulation' : list(res_hs.mean(axis = 1))}, index = res_hs.index)\n",
    "        fhs_df = pd.DataFrame({'Filtered HS' : list(res_fhs.mean(axis = 1))}, index = res_fhs.index)\n",
    "        GAN_df = pd.DataFrame({'Generative Adversarial Network' : list(res_GAN.mean(axis = 1))}, index = res_GAN.index)\n",
    "        \n",
    "        ##On prépare le tableau à retourner\n",
    "        res = pd.concat([res, hs_df, fhs_df, GAN_df], axis=1)\n",
    "        \n",
    "        # On découpe le tableau en deux parties - Mesures statistiques / Tests Statistiques\n",
    "        mesure = pd.DataFrame(res.iloc[[i for i in range (11)]])\n",
    "        \n",
    "        test = res.drop(columns=['Testing Set'])\n",
    "        test = pd.DataFrame(test.iloc[[i for i in range (11,22)]])\n",
    "        \n",
    "        #On rajoute un titre pour chaque dataframe\n",
    "        mesure = mesure.style.set_caption('Mesure statistiques  ' + self.name + ', Nombre de chemin = ' + str(nb_paths) + ', Longueur Fenetre = ' + str(len_fenetre))\n",
    "        test = test.style.set_caption('Tests statistiques  ' + self.name+ ', Nombre de chemin = ' + str(nb_paths) + ', Longueur Fenetre = ' + str(len_fenetre) + ', Seuil H0 Test Statistique = ' + str((1-percentage_test)*100) + ' %')\n",
    "        \n",
    "        return mesure, test"
   ]
  },
  {
   "cell_type": "markdown",
   "metadata": {},
   "source": [
    "Commençons par choisir une série de données à étudier."
   ]
  },
  {
   "cell_type": "code",
   "execution_count": 29,
   "metadata": {},
   "outputs": [],
   "source": [
    "serie = Series(\"Euribor6M\", Taux[['Euribor6M']], \"Taux\", GAN_Taux, 3)"
   ]
  },
  {
   "cell_type": "code",
   "execution_count": 33,
   "metadata": {},
   "outputs": [
    {
     "data": {
      "text/plain": [
       "<Figure size 432x288 with 0 Axes>"
      ]
     },
     "metadata": {},
     "output_type": "display_data"
    }
   ],
   "source": [
    "describe = serie.describe(500,100, 0.05)"
   ]
  },
  {
   "cell_type": "code",
   "execution_count": 34,
   "metadata": {},
   "outputs": [
    {
     "data": {
      "text/html": [
       "<style  type=\"text/css\" >\n",
       "</style><table id=\"T_e12ffc4e_7aa3_11eb_904e_54ee75f1353c\" ><caption>Mesure statistiques  Euribor6M, Nombre de chemin = 500, Longueur Fenetre = 100</caption><thead>    <tr>        <th class=\"blank level0\" ></th>        <th class=\"col_heading level0 col0\" >Testing Set</th>        <th class=\"col_heading level0 col1\" >Historical Simulation</th>        <th class=\"col_heading level0 col2\" >Filtered HS</th>        <th class=\"col_heading level0 col3\" >Generative Adversarial Network</th>    </tr></thead><tbody>\n",
       "                <tr>\n",
       "                        <th id=\"T_e12ffc4e_7aa3_11eb_904e_54ee75f1353clevel0_row0\" class=\"row_heading level0 row0\" >count</th>\n",
       "                        <td id=\"T_e12ffc4e_7aa3_11eb_904e_54ee75f1353crow0_col0\" class=\"data row0 col0\" >810.000000</td>\n",
       "                        <td id=\"T_e12ffc4e_7aa3_11eb_904e_54ee75f1353crow0_col1\" class=\"data row0 col1\" >810.000000</td>\n",
       "                        <td id=\"T_e12ffc4e_7aa3_11eb_904e_54ee75f1353crow0_col2\" class=\"data row0 col2\" >810.000000</td>\n",
       "                        <td id=\"T_e12ffc4e_7aa3_11eb_904e_54ee75f1353crow0_col3\" class=\"data row0 col3\" >810.000000</td>\n",
       "            </tr>\n",
       "            <tr>\n",
       "                        <th id=\"T_e12ffc4e_7aa3_11eb_904e_54ee75f1353clevel0_row1\" class=\"row_heading level0 row1\" >mean</th>\n",
       "                        <td id=\"T_e12ffc4e_7aa3_11eb_904e_54ee75f1353crow1_col0\" class=\"data row1 col0\" >-0.000295</td>\n",
       "                        <td id=\"T_e12ffc4e_7aa3_11eb_904e_54ee75f1353crow1_col1\" class=\"data row1 col1\" >-0.000785</td>\n",
       "                        <td id=\"T_e12ffc4e_7aa3_11eb_904e_54ee75f1353crow1_col2\" class=\"data row1 col2\" >-0.000449</td>\n",
       "                        <td id=\"T_e12ffc4e_7aa3_11eb_904e_54ee75f1353crow1_col3\" class=\"data row1 col3\" >0.002082</td>\n",
       "            </tr>\n",
       "            <tr>\n",
       "                        <th id=\"T_e12ffc4e_7aa3_11eb_904e_54ee75f1353clevel0_row2\" class=\"row_heading level0 row2\" >std</th>\n",
       "                        <td id=\"T_e12ffc4e_7aa3_11eb_904e_54ee75f1353crow2_col0\" class=\"data row2 col0\" >0.006326</td>\n",
       "                        <td id=\"T_e12ffc4e_7aa3_11eb_904e_54ee75f1353crow2_col1\" class=\"data row2 col1\" >0.011541</td>\n",
       "                        <td id=\"T_e12ffc4e_7aa3_11eb_904e_54ee75f1353crow2_col2\" class=\"data row2 col2\" >0.008686</td>\n",
       "                        <td id=\"T_e12ffc4e_7aa3_11eb_904e_54ee75f1353crow2_col3\" class=\"data row2 col3\" >2.616486</td>\n",
       "            </tr>\n",
       "            <tr>\n",
       "                        <th id=\"T_e12ffc4e_7aa3_11eb_904e_54ee75f1353clevel0_row3\" class=\"row_heading level0 row3\" >min</th>\n",
       "                        <td id=\"T_e12ffc4e_7aa3_11eb_904e_54ee75f1353crow3_col0\" class=\"data row3 col0\" >-0.031000</td>\n",
       "                        <td id=\"T_e12ffc4e_7aa3_11eb_904e_54ee75f1353crow3_col1\" class=\"data row3 col1\" >-0.088222</td>\n",
       "                        <td id=\"T_e12ffc4e_7aa3_11eb_904e_54ee75f1353crow3_col2\" class=\"data row3 col2\" >-0.086590</td>\n",
       "                        <td id=\"T_e12ffc4e_7aa3_11eb_904e_54ee75f1353crow3_col3\" class=\"data row3 col3\" >-26.284065</td>\n",
       "            </tr>\n",
       "            <tr>\n",
       "                        <th id=\"T_e12ffc4e_7aa3_11eb_904e_54ee75f1353clevel0_row4\" class=\"row_heading level0 row4\" >25%</th>\n",
       "                        <td id=\"T_e12ffc4e_7aa3_11eb_904e_54ee75f1353crow4_col0\" class=\"data row4 col0\" >-0.001000</td>\n",
       "                        <td id=\"T_e12ffc4e_7aa3_11eb_904e_54ee75f1353crow4_col1\" class=\"data row4 col1\" >-0.002482</td>\n",
       "                        <td id=\"T_e12ffc4e_7aa3_11eb_904e_54ee75f1353crow4_col2\" class=\"data row4 col2\" >-0.001887</td>\n",
       "                        <td id=\"T_e12ffc4e_7aa3_11eb_904e_54ee75f1353crow4_col3\" class=\"data row4 col3\" >-0.020936</td>\n",
       "            </tr>\n",
       "            <tr>\n",
       "                        <th id=\"T_e12ffc4e_7aa3_11eb_904e_54ee75f1353clevel0_row5\" class=\"row_heading level0 row5\" >50%</th>\n",
       "                        <td id=\"T_e12ffc4e_7aa3_11eb_904e_54ee75f1353crow5_col0\" class=\"data row5 col0\" >0.000000</td>\n",
       "                        <td id=\"T_e12ffc4e_7aa3_11eb_904e_54ee75f1353crow5_col1\" class=\"data row5 col1\" >-0.000016</td>\n",
       "                        <td id=\"T_e12ffc4e_7aa3_11eb_904e_54ee75f1353crow5_col2\" class=\"data row5 col2\" >-0.000003</td>\n",
       "                        <td id=\"T_e12ffc4e_7aa3_11eb_904e_54ee75f1353crow5_col3\" class=\"data row5 col3\" >-0.004269</td>\n",
       "            </tr>\n",
       "            <tr>\n",
       "                        <th id=\"T_e12ffc4e_7aa3_11eb_904e_54ee75f1353clevel0_row6\" class=\"row_heading level0 row6\" >75%</th>\n",
       "                        <td id=\"T_e12ffc4e_7aa3_11eb_904e_54ee75f1353crow6_col0\" class=\"data row6 col0\" >0.001000</td>\n",
       "                        <td id=\"T_e12ffc4e_7aa3_11eb_904e_54ee75f1353crow6_col1\" class=\"data row6 col1\" >0.001987</td>\n",
       "                        <td id=\"T_e12ffc4e_7aa3_11eb_904e_54ee75f1353crow6_col2\" class=\"data row6 col2\" >0.001152</td>\n",
       "                        <td id=\"T_e12ffc4e_7aa3_11eb_904e_54ee75f1353crow6_col3\" class=\"data row6 col3\" >0.010136</td>\n",
       "            </tr>\n",
       "            <tr>\n",
       "                        <th id=\"T_e12ffc4e_7aa3_11eb_904e_54ee75f1353clevel0_row7\" class=\"row_heading level0 row7\" >max</th>\n",
       "                        <td id=\"T_e12ffc4e_7aa3_11eb_904e_54ee75f1353crow7_col0\" class=\"data row7 col0\" >0.054000</td>\n",
       "                        <td id=\"T_e12ffc4e_7aa3_11eb_904e_54ee75f1353crow7_col1\" class=\"data row7 col1\" >0.094440</td>\n",
       "                        <td id=\"T_e12ffc4e_7aa3_11eb_904e_54ee75f1353crow7_col2\" class=\"data row7 col2\" >0.074548</td>\n",
       "                        <td id=\"T_e12ffc4e_7aa3_11eb_904e_54ee75f1353crow7_col3\" class=\"data row7 col3\" >27.557434</td>\n",
       "            </tr>\n",
       "            <tr>\n",
       "                        <th id=\"T_e12ffc4e_7aa3_11eb_904e_54ee75f1353clevel0_row8\" class=\"row_heading level0 row8\" >Median Absolute Deviation</th>\n",
       "                        <td id=\"T_e12ffc4e_7aa3_11eb_904e_54ee75f1353crow8_col0\" class=\"data row8 col0\" >0.003265</td>\n",
       "                        <td id=\"T_e12ffc4e_7aa3_11eb_904e_54ee75f1353crow8_col1\" class=\"data row8 col1\" >0.005621</td>\n",
       "                        <td id=\"T_e12ffc4e_7aa3_11eb_904e_54ee75f1353crow8_col2\" class=\"data row8 col2\" >0.004075</td>\n",
       "                        <td id=\"T_e12ffc4e_7aa3_11eb_904e_54ee75f1353crow8_col3\" class=\"data row8 col3\" >0.457877</td>\n",
       "            </tr>\n",
       "            <tr>\n",
       "                        <th id=\"T_e12ffc4e_7aa3_11eb_904e_54ee75f1353clevel0_row9\" class=\"row_heading level0 row9\" >skew</th>\n",
       "                        <td id=\"T_e12ffc4e_7aa3_11eb_904e_54ee75f1353crow9_col0\" class=\"data row9 col0\" >1.725536</td>\n",
       "                        <td id=\"T_e12ffc4e_7aa3_11eb_904e_54ee75f1353crow9_col1\" class=\"data row9 col1\" >-0.883730</td>\n",
       "                        <td id=\"T_e12ffc4e_7aa3_11eb_904e_54ee75f1353crow9_col2\" class=\"data row9 col2\" >-0.260548</td>\n",
       "                        <td id=\"T_e12ffc4e_7aa3_11eb_904e_54ee75f1353crow9_col3\" class=\"data row9 col3\" >0.432272</td>\n",
       "            </tr>\n",
       "            <tr>\n",
       "                        <th id=\"T_e12ffc4e_7aa3_11eb_904e_54ee75f1353clevel0_row10\" class=\"row_heading level0 row10\" >kurtosis</th>\n",
       "                        <td id=\"T_e12ffc4e_7aa3_11eb_904e_54ee75f1353crow10_col0\" class=\"data row10 col0\" >16.961717</td>\n",
       "                        <td id=\"T_e12ffc4e_7aa3_11eb_904e_54ee75f1353crow10_col1\" class=\"data row10 col1\" >27.283533</td>\n",
       "                        <td id=\"T_e12ffc4e_7aa3_11eb_904e_54ee75f1353crow10_col2\" class=\"data row10 col2\" >34.543386</td>\n",
       "                        <td id=\"T_e12ffc4e_7aa3_11eb_904e_54ee75f1353crow10_col3\" class=\"data row10 col3\" >71.426747</td>\n",
       "            </tr>\n",
       "    </tbody></table>"
      ],
      "text/plain": [
       "<pandas.io.formats.style.Styler at 0x2151f005b80>"
      ]
     },
     "execution_count": 34,
     "metadata": {},
     "output_type": "execute_result"
    }
   ],
   "source": [
    "describe_mesure = describe[0]\n",
    "describe_mesure"
   ]
  },
  {
   "cell_type": "code",
   "execution_count": 35,
   "metadata": {},
   "outputs": [
    {
     "data": {
      "text/html": [
       "<style  type=\"text/css\" >\n",
       "</style><table id=\"T_e17c2c45_7aa3_11eb_a2e8_54ee75f1353c\" ><caption>Tests statistiques  Euribor6M, Nombre de chemin = 500, Longueur Fenetre = 100, Seuil H0 Test Statistique = 95.0 %</caption><thead>    <tr>        <th class=\"blank level0\" ></th>        <th class=\"col_heading level0 col0\" >Historical Simulation</th>        <th class=\"col_heading level0 col1\" >Filtered HS</th>        <th class=\"col_heading level0 col2\" >Generative Adversarial Network</th>    </tr></thead><tbody>\n",
       "                <tr>\n",
       "                        <th id=\"T_e17c2c45_7aa3_11eb_a2e8_54ee75f1353clevel0_row0\" class=\"row_heading level0 row0\" >Wasserstein Distance</th>\n",
       "                        <td id=\"T_e17c2c45_7aa3_11eb_a2e8_54ee75f1353crow0_col0\" class=\"data row0 col0\" >0.002379</td>\n",
       "                        <td id=\"T_e17c2c45_7aa3_11eb_a2e8_54ee75f1353crow0_col1\" class=\"data row0 col1\" >0.003295</td>\n",
       "                        <td id=\"T_e17c2c45_7aa3_11eb_a2e8_54ee75f1353crow0_col2\" class=\"data row0 col2\" >0.450013</td>\n",
       "            </tr>\n",
       "            <tr>\n",
       "                        <th id=\"T_e17c2c45_7aa3_11eb_a2e8_54ee75f1353clevel0_row1\" class=\"row_heading level0 row1\" >Wilcoxon Test</th>\n",
       "                        <td id=\"T_e17c2c45_7aa3_11eb_a2e8_54ee75f1353crow1_col0\" class=\"data row1 col0\" >139826.623000</td>\n",
       "                        <td id=\"T_e17c2c45_7aa3_11eb_a2e8_54ee75f1353crow1_col1\" class=\"data row1 col1\" >139754.486000</td>\n",
       "                        <td id=\"T_e17c2c45_7aa3_11eb_a2e8_54ee75f1353crow1_col2\" class=\"data row1 col2\" >138015.163793</td>\n",
       "            </tr>\n",
       "            <tr>\n",
       "                        <th id=\"T_e17c2c45_7aa3_11eb_a2e8_54ee75f1353clevel0_row2\" class=\"row_heading level0 row2\" >Wilcoxon H0 % Acceptance</th>\n",
       "                        <td id=\"T_e17c2c45_7aa3_11eb_a2e8_54ee75f1353crow2_col0\" class=\"data row2 col0\" >0.862000</td>\n",
       "                        <td id=\"T_e17c2c45_7aa3_11eb_a2e8_54ee75f1353crow2_col1\" class=\"data row2 col1\" >0.962000</td>\n",
       "                        <td id=\"T_e17c2c45_7aa3_11eb_a2e8_54ee75f1353crow2_col2\" class=\"data row2 col2\" >1.000000</td>\n",
       "            </tr>\n",
       "            <tr>\n",
       "                        <th id=\"T_e17c2c45_7aa3_11eb_a2e8_54ee75f1353clevel0_row3\" class=\"row_heading level0 row3\" >Mann-Whitneyu Test</th>\n",
       "                        <td id=\"T_e17c2c45_7aa3_11eb_a2e8_54ee75f1353crow3_col0\" class=\"data row3 col0\" >321518.533000</td>\n",
       "                        <td id=\"T_e17c2c45_7aa3_11eb_a2e8_54ee75f1353crow3_col1\" class=\"data row3 col1\" >320150.214000</td>\n",
       "                        <td id=\"T_e17c2c45_7aa3_11eb_a2e8_54ee75f1353crow3_col2\" class=\"data row3 col2\" >277191.379310</td>\n",
       "            </tr>\n",
       "            <tr>\n",
       "                        <th id=\"T_e17c2c45_7aa3_11eb_a2e8_54ee75f1353clevel0_row4\" class=\"row_heading level0 row4\" >Mann-Whitneyu H0 % Acceptance</th>\n",
       "                        <td id=\"T_e17c2c45_7aa3_11eb_a2e8_54ee75f1353crow4_col0\" class=\"data row4 col0\" >0.862000</td>\n",
       "                        <td id=\"T_e17c2c45_7aa3_11eb_a2e8_54ee75f1353crow4_col1\" class=\"data row4 col1\" >0.962000</td>\n",
       "                        <td id=\"T_e17c2c45_7aa3_11eb_a2e8_54ee75f1353crow4_col2\" class=\"data row4 col2\" >1.000000</td>\n",
       "            </tr>\n",
       "            <tr>\n",
       "                        <th id=\"T_e17c2c45_7aa3_11eb_a2e8_54ee75f1353clevel0_row5\" class=\"row_heading level0 row5\" >F_test</th>\n",
       "                        <td id=\"T_e17c2c45_7aa3_11eb_a2e8_54ee75f1353crow5_col0\" class=\"data row5 col0\" >1.855817</td>\n",
       "                        <td id=\"T_e17c2c45_7aa3_11eb_a2e8_54ee75f1353crow5_col1\" class=\"data row5 col1\" >0.874766</td>\n",
       "                        <td id=\"T_e17c2c45_7aa3_11eb_a2e8_54ee75f1353crow5_col2\" class=\"data row5 col2\" >0.036624</td>\n",
       "            </tr>\n",
       "            <tr>\n",
       "                        <th id=\"T_e17c2c45_7aa3_11eb_a2e8_54ee75f1353clevel0_row6\" class=\"row_heading level0 row6\" >F_test H0 % Acceptance</th>\n",
       "                        <td id=\"T_e17c2c45_7aa3_11eb_a2e8_54ee75f1353crow6_col0\" class=\"data row6 col0\" >0.862000</td>\n",
       "                        <td id=\"T_e17c2c45_7aa3_11eb_a2e8_54ee75f1353crow6_col1\" class=\"data row6 col1\" >0.962000</td>\n",
       "                        <td id=\"T_e17c2c45_7aa3_11eb_a2e8_54ee75f1353crow6_col2\" class=\"data row6 col2\" >1.000000</td>\n",
       "            </tr>\n",
       "            <tr>\n",
       "                        <th id=\"T_e17c2c45_7aa3_11eb_a2e8_54ee75f1353clevel0_row7\" class=\"row_heading level0 row7\" >t_test</th>\n",
       "                        <td id=\"T_e17c2c45_7aa3_11eb_a2e8_54ee75f1353crow7_col0\" class=\"data row7 col0\" >1.056438</td>\n",
       "                        <td id=\"T_e17c2c45_7aa3_11eb_a2e8_54ee75f1353crow7_col1\" class=\"data row7 col1\" >-0.153783</td>\n",
       "                        <td id=\"T_e17c2c45_7aa3_11eb_a2e8_54ee75f1353crow7_col2\" class=\"data row7 col2\" >-0.028059</td>\n",
       "            </tr>\n",
       "            <tr>\n",
       "                        <th id=\"T_e17c2c45_7aa3_11eb_a2e8_54ee75f1353clevel0_row8\" class=\"row_heading level0 row8\" >t_test H0 % Acceptance</th>\n",
       "                        <td id=\"T_e17c2c45_7aa3_11eb_a2e8_54ee75f1353crow8_col0\" class=\"data row8 col0\" >0.862000</td>\n",
       "                        <td id=\"T_e17c2c45_7aa3_11eb_a2e8_54ee75f1353crow8_col1\" class=\"data row8 col1\" >0.962000</td>\n",
       "                        <td id=\"T_e17c2c45_7aa3_11eb_a2e8_54ee75f1353crow8_col2\" class=\"data row8 col2\" >1.000000</td>\n",
       "            </tr>\n",
       "            <tr>\n",
       "                        <th id=\"T_e17c2c45_7aa3_11eb_a2e8_54ee75f1353clevel0_row9\" class=\"row_heading level0 row9\" >Z_test</th>\n",
       "                        <td id=\"T_e17c2c45_7aa3_11eb_a2e8_54ee75f1353crow9_col0\" class=\"data row9 col0\" >1.056438</td>\n",
       "                        <td id=\"T_e17c2c45_7aa3_11eb_a2e8_54ee75f1353crow9_col1\" class=\"data row9 col1\" >-0.153783</td>\n",
       "                        <td id=\"T_e17c2c45_7aa3_11eb_a2e8_54ee75f1353crow9_col2\" class=\"data row9 col2\" >-0.028059</td>\n",
       "            </tr>\n",
       "            <tr>\n",
       "                        <th id=\"T_e17c2c45_7aa3_11eb_a2e8_54ee75f1353clevel0_row10\" class=\"row_heading level0 row10\" >Z_test H0 % Acceptance</th>\n",
       "                        <td id=\"T_e17c2c45_7aa3_11eb_a2e8_54ee75f1353crow10_col0\" class=\"data row10 col0\" >0.862000</td>\n",
       "                        <td id=\"T_e17c2c45_7aa3_11eb_a2e8_54ee75f1353crow10_col1\" class=\"data row10 col1\" >0.962000</td>\n",
       "                        <td id=\"T_e17c2c45_7aa3_11eb_a2e8_54ee75f1353crow10_col2\" class=\"data row10 col2\" >1.000000</td>\n",
       "            </tr>\n",
       "    </tbody></table>"
      ],
      "text/plain": [
       "<pandas.io.formats.style.Styler at 0x2151f005b20>"
      ]
     },
     "execution_count": 35,
     "metadata": {},
     "output_type": "execute_result"
    }
   ],
   "source": [
    "describe_test = describe[1]\n",
    "describe_test"
   ]
  },
  {
   "cell_type": "markdown",
   "metadata": {},
   "source": [
    "## I - Préparation de notre data set pour la simulation <a class=\"anchor\" id=\"chapter1\"></a>\n",
    "\n",
    "[Retour Sommaire](#sommaire)"
   ]
  },
  {
   "cell_type": "markdown",
   "metadata": {},
   "source": [
    "#### I.1 - Conversion des données en rendements logarithmiques <a class=\"anchor\" id=\"chapter1.1\"></a>\n"
   ]
  },
  {
   "cell_type": "code",
   "execution_count": 13,
   "metadata": {},
   "outputs": [
    {
     "data": {
      "text/html": [
       "<div>\n",
       "<style scoped>\n",
       "    .dataframe tbody tr th:only-of-type {\n",
       "        vertical-align: middle;\n",
       "    }\n",
       "\n",
       "    .dataframe tbody tr th {\n",
       "        vertical-align: top;\n",
       "    }\n",
       "\n",
       "    .dataframe thead th {\n",
       "        text-align: right;\n",
       "    }\n",
       "</style>\n",
       "<table border=\"1\" class=\"dataframe\">\n",
       "  <thead>\n",
       "    <tr style=\"text-align: right;\">\n",
       "      <th></th>\n",
       "      <th>STOXX50</th>\n",
       "    </tr>\n",
       "    <tr>\n",
       "      <th>Date</th>\n",
       "      <th></th>\n",
       "    </tr>\n",
       "  </thead>\n",
       "  <tbody>\n",
       "    <tr>\n",
       "      <th>2007-04-03</th>\n",
       "      <td>0.013455</td>\n",
       "    </tr>\n",
       "    <tr>\n",
       "      <th>2007-04-04</th>\n",
       "      <td>0.003651</td>\n",
       "    </tr>\n",
       "    <tr>\n",
       "      <th>2007-04-05</th>\n",
       "      <td>0.002276</td>\n",
       "    </tr>\n",
       "    <tr>\n",
       "      <th>2007-04-10</th>\n",
       "      <td>0.006982</td>\n",
       "    </tr>\n",
       "    <tr>\n",
       "      <th>2007-04-11</th>\n",
       "      <td>-0.001924</td>\n",
       "    </tr>\n",
       "    <tr>\n",
       "      <th>...</th>\n",
       "      <td>...</td>\n",
       "    </tr>\n",
       "    <tr>\n",
       "      <th>2020-11-02</th>\n",
       "      <td>0.020520</td>\n",
       "    </tr>\n",
       "    <tr>\n",
       "      <th>2020-11-03</th>\n",
       "      <td>0.025885</td>\n",
       "    </tr>\n",
       "    <tr>\n",
       "      <th>2020-11-04</th>\n",
       "      <td>0.019921</td>\n",
       "    </tr>\n",
       "    <tr>\n",
       "      <th>2020-11-05</th>\n",
       "      <td>0.017091</td>\n",
       "    </tr>\n",
       "    <tr>\n",
       "      <th>2020-11-06</th>\n",
       "      <td>-0.003586</td>\n",
       "    </tr>\n",
       "  </tbody>\n",
       "</table>\n",
       "<p>3338 rows × 1 columns</p>\n",
       "</div>"
      ],
      "text/plain": [
       "             STOXX50\n",
       "Date                \n",
       "2007-04-03  0.013455\n",
       "2007-04-04  0.003651\n",
       "2007-04-05  0.002276\n",
       "2007-04-10  0.006982\n",
       "2007-04-11 -0.001924\n",
       "...              ...\n",
       "2020-11-02  0.020520\n",
       "2020-11-03  0.025885\n",
       "2020-11-04  0.019921\n",
       "2020-11-05  0.017091\n",
       "2020-11-06 -0.003586\n",
       "\n",
       "[3338 rows x 1 columns]"
      ]
     },
     "execution_count": 13,
     "metadata": {},
     "output_type": "execute_result"
    },
    {
     "data": {
      "image/png": "[encoded data removed]",
      "text/plain": [
       "<Figure size 432x288 with 1 Axes>"
      ]
     },
     "metadata": {},
     "output_type": "display_data"
    }
   ],
   "source": [
    "serie.returns()"
   ]
  },
  {
   "cell_type": "markdown",
   "metadata": {},
   "source": [
    "<u>Remarque:</u> On voit bien les fortes variations en 2009 (crise financière) et idem en début 2020 (crise du COVID-19)"
   ]
  },
  {
   "cell_type": "markdown",
   "metadata": {},
   "source": [
    "#### I.2 - Split de notre dataset <a class=\"anchor\" id=\"chapter1.2\"></a>\n",
    "\n",
    "[Retour Sommaire](#sommaire)"
   ]
  },
  {
   "cell_type": "markdown",
   "metadata": {},
   "source": [
    "On sépare ensuite notre data set en deux.\n",
    "\n",
    "- La première partie (80%) correspond au Training Set\n",
    "- La seconde partie (20%) correspond au Testing Set"
   ]
  },
  {
   "cell_type": "code",
   "execution_count": 14,
   "metadata": {},
   "outputs": [
    {
     "data": {
      "text/plain": [
       "<matplotlib.legend.Legend at 0x244702418e0>"
      ]
     },
     "execution_count": 14,
     "metadata": {},
     "output_type": "execute_result"
    },
    {
     "data": {
      "image/png": "[encoded data removed]",
      "text/plain": [
       "<Figure size 432x288 with 1 Axes>"
      ]
     },
     "metadata": {},
     "output_type": "display_data"
    }
   ],
   "source": [
    "training_data, testing_data = serie.split_data()\n",
    "plt.plot(training_data,c='b',label='Training data')\n",
    "plt.plot(testing_data,c='r',label='Testing data')\n",
    "plt.legend()"
   ]
  },
  {
   "cell_type": "markdown",
   "metadata": {},
   "source": [
    "## II - Modélisation paramétrique <a class=\"anchor\" id=\"chapter2\"></a>\n",
    "\n",
    "[Retour Sommaire](#sommaire)\n",
    "\n",
    "Nous avons voulu dans un premier temps réaliser une méthode simple de modélisation et de prédiction. L'objectif était tout d'abord de manipuler nos set de données, mais aussi d'apprécier la performance de ce type de méthode afin de les comparer avec les méthodes plus complexes que nous étudierons par la suite."
   ]
  },
  {
   "cell_type": "markdown",
   "metadata": {},
   "source": [
    "#### II.1 - Modèle GARCH(p,q)  <a class=\"anchor\" id=\"chapter2.section1\"></a>"
   ]
  },
  {
   "cell_type": "markdown",
   "metadata": {},
   "source": [
    "Pour trouver le modèle le plus adapté à notre série temporelle, nous allons utiliser une fonction de performance et nous allons déterminer les paramètres p et q optimaux pour notre modèle GARCH(p,q).\n",
    "\n",
    "On rappelle le format général d'un modèle GARCH(p,q): \n",
    "$$ \\sigma^{2}_{t} = \\omega + \\sum_{j=1}^{q}\\alpha_{j}\\epsilon^{2}_{t-j}  +  \\sum_{j=1}^{p}\\beta_{j}\\sigma^{2}_{t-j}  $$\n",
    "\n",
    "Par exemple, si p=q=1, cela signifie que :\n",
    "\n",
    "$$ r_{t} = \\mu + \\epsilon_{t} $$\n",
    "\n",
    "$$ \\sigma^{2}_{t} = \\omega + \\alpha \\epsilon^{2}_{t-1} + \\beta \\sigma^{2}_{t-1} $$\n",
    "\n",
    "$$ \\epsilon_{t} = \\sigma_{t}e_{t} $$ \n",
    "with $ e_{t}\\sim N(0,1) $"
   ]
  },
  {
   "cell_type": "code",
   "execution_count": null,
   "metadata": {
    "scrolled": true
   },
   "outputs": [],
   "source": [
    "# best_pq , model_garch = serie.garch(5,5)\n",
    "# model_garch.summary()"
   ]
  },
  {
   "cell_type": "markdown",
   "metadata": {},
   "source": [
    "#### II.2 - Simulations grâce à notre modèle GARCH (p,q)  <a class=\"anchor\" id=\"chapter2.section2\"></a>"
   ]
  },
  {
   "cell_type": "code",
   "execution_count": null,
   "metadata": {},
   "outputs": [],
   "source": [
    "# serie.garch_modelisation(5,5)"
   ]
  },
  {
   "cell_type": "markdown",
   "metadata": {},
   "source": [
    "Les résultats ne semblent pas concluant avec ce modèle, il ne peut pas être utilisé pour la suite."
   ]
  },
  {
   "cell_type": "markdown",
   "metadata": {},
   "source": [
    "Dans un prochain chapitre, nous reviendrons sur ces prédictions et nous réaliserons une comparaison plus poussée, notamment par rapport aux valeurs réelles, grâce à différentes mesures. Nous comparerons aussi leur performance par rapport au modèle que nous allons décrire dans le prochain chapitre, le boostrapping."
   ]
  },
  {
   "cell_type": "markdown",
   "metadata": {},
   "source": [
    "## III- Bootstrapping <a class=\"anchor\" id=\"chapter3\"></a>\n",
    "\n",
    "[Retour Sommaire](#sommaire)"
   ]
  },
  {
   "cell_type": "markdown",
   "metadata": {},
   "source": [
    "On réalise un bootstrapping sur les rendements de notre série de données. Nous générons pour cela 1000 scénarios issus du réechantillonage de notre Training set.\n",
    "\n",
    "On calcule sur l'ensemble de nos scénarios générés par bootstrapping : \n",
    "\n",
    "- <strong>le quantile à 5% et 95% </strong>\n",
    "- <strong>le quantile à 95% </strong>\n",
    "- <strong>la moyenne </strong>\n",
    "\n",
    "Puis on affiche le graphique comprenant ces trois mesures."
   ]
  },
  {
   "cell_type": "code",
   "execution_count": null,
   "metadata": {},
   "outputs": [],
   "source": [
    "serie.historical_simulation(1000)"
   ]
  },
  {
   "cell_type": "markdown",
   "metadata": {},
   "source": [
    "## IV - Filtred Historical Simulation <a class=\"anchor\" id=\"chapter4\"></a>\n",
    "\n",
    "[Retour Sommaire](#sommaire)"
   ]
  },
  {
   "cell_type": "markdown",
   "metadata": {},
   "source": [
    "<u><strong> Etape 1 :</strong> Trouver le meilleur modèle de volatilité conditionnel (GARCH) pour le rendement à modéliser </u>\n",
    "\n",
    "Pour rappel, nous avons défini une fonction <i> best_param_garch </i> en <strong> III.1.1 </strong>. Nous allons nous en servir afin de trouver le meilleur modéle GARCH\n",
    "\n",
    "<u><strong> Etape 2 : </strong> Standardisation des rendements </u>\n",
    "\n",
    "<u><strong>Etape 3 :</strong> Bootstrapping à partir des rendements standardisés </u>"
   ]
  },
  {
   "cell_type": "code",
   "execution_count": null,
   "metadata": {},
   "outputs": [],
   "source": [
    "# serie.filtered_historical_simulation_GARCH(1000)"
   ]
  },
  {
   "cell_type": "markdown",
   "metadata": {},
   "source": [
    "##### Complément : FHS utilisant la fenêtre glissante"
   ]
  },
  {
   "cell_type": "code",
   "execution_count": null,
   "metadata": {},
   "outputs": [],
   "source": [
    "serie.filtered_historical_simulation_glissant(1000,20)"
   ]
  },
  {
   "cell_type": "markdown",
   "metadata": {},
   "source": [
    "## V - Fonction de performance <a class=\"anchor\" id=\"chapter5\"></a>\n",
    "\n",
    "[Retour Sommaire](#sommaire)"
   ]
  },
  {
   "cell_type": "markdown",
   "metadata": {},
   "source": [
    "Nous allons maintenant comparer de façon statistique les performances des scénarios générés. Pour cela, nous avons réalisé une fonction comprenant un certain nombre de mesures permettant de comparer les différents scénarios."
   ]
  },
  {
   "cell_type": "markdown",
   "metadata": {},
   "source": [
    "#### V.1 - Fonctions de mesures <a class=\"anchor\" id=\"chapter5.section1\"></a>"
   ]
  },
  {
   "cell_type": "markdown",
   "metadata": {},
   "source": [
    "Nous avons commencé par définir 3 fonctions simples qui permettent de calculer : \n",
    "\n",
    "- la déviation en valeur absolue à la médiane d'une distribution de fonction \n",
    "- l'asymétrie d'une distribution de fonction \n",
    "- le kurtosis d'une distribution de fonction \n",
    "\n",
    "NB: Chacune de ces fonctions est réalisé de telle sorte qu'elles peuvent être appliquées à un dataset comportant un ou plusieurs jeux de distributions."
   ]
  },
  {
   "cell_type": "code",
   "execution_count": 29,
   "metadata": {},
   "outputs": [],
   "source": [
    "#This function calculates the absolute median deviation of a distribution function.\n",
    "def Median_Abs_dev(data):    \n",
    "    mads =[]\n",
    "    for col in data.columns:\n",
    "        series = data[col]\n",
    "        mads.append(series.mad())\n",
    "    return(mads)"
   ]
  },
  {
   "cell_type": "code",
   "execution_count": 30,
   "metadata": {},
   "outputs": [],
   "source": [
    "#This function calculates the skewness value of a distribution function.\n",
    "def skewness(data):    \n",
    "    skews =[]\n",
    "    for col in data.columns:\n",
    "        series = data[col]\n",
    "        skews.append(series.skew())\n",
    "    return(skews)"
   ]
  },
  {
   "cell_type": "code",
   "execution_count": 31,
   "metadata": {},
   "outputs": [],
   "source": [
    "#This function calculates the kurtosis value of a distribution function\n",
    "def kurtosis(data):\n",
    "    kurtos =[]\n",
    "    for col in data.columns:\n",
    "        series = data[col]\n",
    "        kurtos.append(series.kurt())\n",
    "    return(kurtos)"
   ]
  },
  {
   "cell_type": "markdown",
   "metadata": {},
   "source": [
    "\n",
    "Nous avons ensuite choisi 3 tests permettant de comparer la <u>moyenne et la variance entre deux distributions</u> de fonctions : \n",
    "\n",
    "- <strong> Z-test </strong> : Comparaison de la moyenne des distributions\n",
    "- <strong> (Student) t-test </strong>: Comparaison de la moyenne des distributions\n",
    "- <strong> F-test </strong>: Comparaison de la variance des distributions\n",
    "\n",
    "NB: Chacune de ces fonctions est réalisée de telle sorte qu'elles peuvent être appliquées à un dataset comportant une ou plusieurs méthodes prédictions."
   ]
  },
  {
   "cell_type": "markdown",
   "metadata": {},
   "source": [
    "<strong><u> Z-test  - Comparaison de la moyenne des distributions </strong></u> \n",
    "\n",
    "$$ Z = \\frac{\\bar{X} - \\mu_{0}}{s} $$\n",
    "\n",
    "où : \n",
    "- $Z$ : Z-test\n",
    "- $\\bar{X}$ : moyenne de l'échantillon\n",
    "- $\\mu_{0} $ : espérance\n",
    "- $s$ : écart-type\n",
    "\n",
    "\n",
    "Lien : \n",
    "- https://docs.scipy.org/doc/scipy/reference/generated/scipy.stats.zscore.html\n",
    "- https://en.wikipedia.org/wiki/Z-test"
   ]
  },
  {
   "cell_type": "code",
   "execution_count": 32,
   "metadata": {},
   "outputs": [],
   "source": [
    "#  ! WARNING ! -> This function calculates the Z-Score of one distribution.\n",
    "# The 1st index of the general Dataframe MUST be the Training Set or Testing Set column\n",
    "from statsmodels.stats.weightstats import ztest\n",
    "\n",
    "def Z_score(data) :\n",
    "    stat_val = []\n",
    "    res_p_val = []\n",
    "    for col in data.columns:\n",
    "        if col == 'Testing Set':\n",
    "            stat_val.append('NaN')\n",
    "            res_p_val.append('NaN')\n",
    "        else:\n",
    "            series = data[col]\n",
    "            stat_val.append(ztest(np.array(data['Testing Set']) , np.array(data[col]))[0])\n",
    "            res_p_val.append(ztest(np.array(data['Testing Set']) , np.array(data[col]))[1])\n",
    "    return (stat_val, res_p_val)"
   ]
  },
  {
   "cell_type": "markdown",
   "metadata": {},
   "source": [
    "<strong><u> (Student) t-test  - Comparaison de la moyenne des distributions </strong></u> \n",
    "\n",
    "$$ t = \\frac{m - \\mu_{0}}{s/ \\sqrt{n}} $$\n",
    "\n",
    "où : \n",
    "- $t$ : t-test\n",
    "- $m$ : espérance\n",
    "- $\\mu_{0} $ : valeur théorique\n",
    "- $s$ : écart-type\n",
    "- $n$ : taille de l'échantillon\n",
    "\n",
    "\n",
    "Lien : \n",
    "- https://docs.scipy.org/doc/scipy/reference/generated/scipy.stats.ttest_ind.html\n",
    "- https://en.wikipedia.org/wiki/Student%27s_t-test"
   ]
  },
  {
   "cell_type": "code",
   "execution_count": 33,
   "metadata": {},
   "outputs": [],
   "source": [
    "#  ! WARNING ! -> This function calculates the t-Score of two distribution.\n",
    "# The 1st index of the general Dataframe MUST be the Training Set or Testing Set column\n",
    "\n",
    "def t_score(data) :\n",
    "    stat_val = []\n",
    "    res_p_val = []\n",
    "    for col in data.columns:\n",
    "        if col == 'Testing Set':\n",
    "            stat_val.append('NaN')\n",
    "            res_p_val.append('NaN')\n",
    "        else:\n",
    "            series = data[col]\n",
    "            stat_val.append(stats.ttest_ind(np.array(data['Testing Set']) , np.array(data[col]))[0])\n",
    "            res_p_val.append(stats.ttest_ind(np.array(data['Testing Set']) , np.array(data[col]))[1])\n",
    "    return (stat_val, res_p_val)"
   ]
  },
  {
   "cell_type": "markdown",
   "metadata": {},
   "source": [
    "<strong><u> F-Test  - Comparaison de la variance des distributions </strong></u> \n",
    "\n",
    "$$ F = \\frac{Explained Variance}{Unexplained Variance} $$\n",
    "\n",
    "avec :\n",
    "\n",
    "$$ Explained Variance = \\sum_{i = 1}^{K}n_{i} ({\\bar {Y}}_{i \\cdot} - {\\bar {Y}})^{2} / (K - 1) $$\n",
    "et\n",
    "$$ Unexplained Variance = \\sum_{i = 1}^{K} \\sum_{j = 1}^{n_{i}} ({\\bar {Y}}_{ij \\cdot} - {\\bar {Y}}_{i \\cdot})^{2} / (N - K) $$\n",
    "\n",
    "où \n",
    "- $ {Y}_{ij} $ est la j-ème observation dans la i-ème sur K groupes\n",
    "- N : taille globale de l'échantillon \n",
    "\n",
    "\n",
    "Lien : \n",
    "- https://docs.scipy.org/doc/scipy/reference/generated/scipy.stats.f_oneway.html\n",
    "- https://en.wikipedia.org/wiki/F-test"
   ]
  },
  {
   "cell_type": "code",
   "execution_count": 34,
   "metadata": {},
   "outputs": [],
   "source": [
    "#  ! WARNING ! -> This function calculates the F-test of two distributions\n",
    "# The 1st index of the general Dataframe MUST be the Training Set or Testing Set column\n",
    "\n",
    "from scipy.stats import f_oneway\n",
    "\n",
    "def F_test(data):\n",
    "    stat_val = []\n",
    "    res_p_val = []\n",
    "    for col in data.columns:\n",
    "        if col == 'Testing Set':\n",
    "            stat_val.append('NaN')\n",
    "            res_p_val.append('NaN')\n",
    "        else:\n",
    "            series = data[col]\n",
    "            stat_val.append(f_oneway(np.array(data['Testing Set']) , np.array(data[col]))[0])\n",
    "            res_p_val.append(f_oneway(np.array(data['Testing Set']) , np.array(data[col]))[1])\n",
    "    return (stat_val, res_p_val)"
   ]
  },
  {
   "cell_type": "markdown",
   "metadata": {},
   "source": [
    "Nous avons ensuite choisi 3 mesures permettant de  <u>comparer deux distributions </u> de fonctions : \n",
    "\n",
    "- <strong> Test de rang de Mann-Whitneyu </strong>\n",
    "- <strong> Test de rang de Wilcoxon </strong>\n",
    "- <strong> Distance de Wasserstein </strong>\n",
    "\n",
    "NB: Chacune de ces fonctions est réalisée de telle sorte qu'elles peuvent être appliquées à un dataset comportant une ou plusieurs méthodes prédictions."
   ]
  },
  {
   "cell_type": "markdown",
   "metadata": {},
   "source": [
    "<strong><u> Test de rang de Mann-Whitneyu  </strong></u> \n",
    "\n",
    "Laisser $X_{1}, \\ldots, X_{n}$ être un échantillon i.i.d de X et $Y_{1}, \\ldots, Y_{n}$ un échantillon i.i.d de Y avec X et Y indépendants l'un de l'autre. \n",
    "\n",
    "La statistique U de Mann-Whitney correspondante est définie comme suit:\n",
    "\n",
    "$$ U = \\sum_{i = 1}^{n} \\sum_{j = 1}^{m} S(X_{i}, Y_{j})  $$\n",
    "\n",
    "avec\n",
    "\n",
    "$\n",
    "  S (X, Y) = \\left\\{\n",
    "          \\begin{array}{ll}\n",
    "            1 & \\qquad \\mathrm{si}\\quad Y < X \\\\\n",
    "            \\frac{1}{2} & \\qquad \\mathrm{si}\\quad Y = X \\\\\n",
    "            0 & \\qquad \\mathrm{si}\\quad Y > X \\\\\n",
    "          \\end{array}\n",
    "        \\right.\n",
    "$\n",
    "\n",
    "\n",
    "Lien : \n",
    "- https://docs.scipy.org/doc/scipy/reference/generated/scipy.stats.mannwhitneyu.html\n",
    "- https://en.wikipedia.org/wiki/Mann%E2%80%93Whitney_U_test"
   ]
  },
  {
   "cell_type": "code",
   "execution_count": 35,
   "metadata": {},
   "outputs": [],
   "source": [
    "#  ! WARNING ! -> This function calculates the Mann_Whitneyu Test between two distributions.\n",
    "# The 1st index of the general Dataframe MUST be the Training Set or Testing Set column\n",
    "\n",
    "def Mann_Whitneyu(data) :\n",
    "    stat_val = []\n",
    "    res_p_val = []\n",
    "    for col in data.columns:\n",
    "        if col == 'Testing Set':\n",
    "            stat_val.append('NaN')\n",
    "            res_p_val.append('NaN')\n",
    "        else:\n",
    "            series = data[col]\n",
    "            stat_val.append(mannwhitneyu(np.array(data['Testing Set']) , np.array(data[col]))[0])\n",
    "            res_p_val.append(mannwhitneyu(np.array(data['Testing Set']) , np.array(data[col]))[1])\n",
    "    return (stat_val, res_p_val)"
   ]
  },
  {
   "cell_type": "markdown",
   "metadata": {},
   "source": [
    "<strong><u> Test de rang de Wilcoxon  </strong></u> \n",
    "\n",
    "Laisser $X_{1}, \\ldots, X_{n}$ être un échantillon i.i.d de X et $Y_{1}, \\ldots, Y_{n}$ un échantillon i.i.d de Y avec X et Y indépendants l'un de l'autre. \n",
    "\n",
    "Le test statistique de Wilcoxon est défini comme suit:\n",
    "\n",
    "$$ W = \\sum_{i = 1}^{N_{r}} [sgn(x_{2,i} - x_{1,i}) * R_{i}]$$\n",
    "\n",
    "avec\n",
    "- $W$ : test statistique \n",
    "- $N_{r}$ : taille de l'échantillon\n",
    "- $sng$ : signe de la function\n",
    "- $x_{2,i} - x_{1,i}$ : paires classées correspondantes des deux distributions\n",
    "- $R_{i}$ : rang i\n",
    "\n",
    "Lien : \n",
    "- https://docs.scipy.org/doc/scipy/reference/generated/scipy.stats.wilcoxon.html\n",
    "- https://en.wikipedia.org/wiki/Wilcoxon_signed-rank_test"
   ]
  },
  {
   "cell_type": "code",
   "execution_count": 36,
   "metadata": {},
   "outputs": [],
   "source": [
    "#  ! WARNING ! -> This function calculates the Wilcoxon Test between two distributions.\n",
    "# The 1st index of the general Dataframe MUST be the Training Set or Testing Set column\n",
    "\n",
    "def Wilcoxon(data) :\n",
    "    stat_val = []\n",
    "    res_p_val = []\n",
    "    for col in data.columns:\n",
    "        if col == 'Testing Set':\n",
    "            stat_val.append('NaN')\n",
    "            res_p_val.append('NaN')\n",
    "        else:\n",
    "            series = data[col]\n",
    "            stat_val.append(wilcoxon(np.array(data['Testing Set']) , np.array(data[col]))[0])\n",
    "            res_p_val.append(wilcoxon(np.array(data['Testing Set']) , np.array(data[col]))[1])\n",
    "    return (stat_val, res_p_val)\n"
   ]
  },
  {
   "cell_type": "markdown",
   "metadata": {},
   "source": [
    "<strong><u> Distance de Wasserstein </strong></u> \n",
    "\n",
    "La première distance de Wasserstein entre les distributions $u$ et $v$ est:\n",
    "\n",
    "\n",
    "$$ l_{1}(u,v) =  \\inf_{\\substack{\\pi \\in \\Gamma(u,v)}} \\int_{\\mathbb{R}x\\mathbb{R}} |x - y|d\\pi(x,y)$$\n",
    "\n",
    "Lien : https://docs.scipy.org/doc/scipy/reference/generated/scipy.stats.wasserstein_distance.html"
   ]
  },
  {
   "cell_type": "code",
   "execution_count": 37,
   "metadata": {},
   "outputs": [],
   "source": [
    "#  ! WARNING ! -> This function calculates the Hellinger distance between two distributions.\n",
    "# The 1st index of the general Dataframe MUST be the Training Set or Testing Set column\n",
    "\n",
    "def Wasserstein(data) :\n",
    "    res = []\n",
    "    for col in data.columns:\n",
    "        series = data[col]\n",
    "        res.append(wasserstein_distance(data['Testing Set'], data[col]))\n",
    "    return(res)"
   ]
  },
  {
   "cell_type": "markdown",
   "metadata": {},
   "source": [
    "#### V.2 - Fonction Describe   <a class=\"anchor\" id=\"chapter5.section2\"></a>\n",
    "\n",
    "[Retour Sommaire](#sommaire)"
   ]
  },
  {
   "cell_type": "markdown",
   "metadata": {},
   "source": [
    "Grâce à toutes les fonctions présentées dans la partie précédente, nous avons réalisé une fonction globale qui, pour un unique dataset en entrée (au format DataFrame), retourne un tableau comparatif comportant les éléments suivants : \n",
    "\n",
    "- Espérance & Variance \n",
    "- Min / Q25% / Médiane / Q75% / Max\n",
    "- Déviation de la médiane en valeure absolue\n",
    "- Asymétrie & Kurtosis\n",
    "- <strong> Z-test </strong> & <strong>t-test</strong> (pour la comparaison de la moyenne)\n",
    "- <strong>F-test </strong>(pour la comparaison de la variance)\n",
    "- <strong>Test de rang de Mann-Whitneyu </strong> & <strong> Test de Wilcoxon</strong> (pour comparer le ranking de deux distributions)\n",
    "- <strong> Mesure de Wasserstein </strong> (pour comparer la distance entre deux distributions)\n",
    "\n",
    "\n",
    "<u> NB:</u> Cette fonction est réalisée de telle sorte qu'elle peut être appliqué à un dataset comportant un ou plusieurs jeux de distributions. Dans le cas d'un dataset multiple, les distance citées précédement seront toujours calculées en fonction de la première colonne de ce dataset.\n",
    "\n",
    "<strong><u> Conséquence: </strong></u>  Il faut impérativement placer les valeurs réelles dans la première colonne de notre DataFrame, afin de pouvoir comparer chaque simulation avec les valeurs réelles, et ainsi comparer la performance de chacunes de nos simulations."
   ]
  },
  {
   "cell_type": "markdown",
   "metadata": {},
   "source": [
    "Nous testons notre fonction de performance sur le dataframe de prédictions, qui comporte : \n",
    "\n",
    "- Nos données réelles\n",
    "- La moyenne de nos scénarii générés par Historical Simulation\n",
    "- La moyenne de nos scénarii générés par Filtered Historical Simulation"
   ]
  },
  {
   "cell_type": "code",
   "execution_count": null,
   "metadata": {},
   "outputs": [],
   "source": [
    "serie.describe()"
   ]
  },
  {
   "cell_type": "markdown",
   "metadata": {},
   "source": [
    "#### V.3 - Comparaison des prévisions GARCH(p,q) / Boostraping / FHS   <a class=\"anchor\" id=\"chapter5.section2\"></a>\n",
    "\n",
    "[Retour Sommaire](#sommaire)"
   ]
  },
  {
   "cell_type": "code",
   "execution_count": null,
   "metadata": {},
   "outputs": [],
   "source": []
  },
  {
   "cell_type": "code",
   "execution_count": null,
   "metadata": {},
   "outputs": [],
   "source": []
  },
  {
   "cell_type": "markdown",
   "metadata": {},
   "source": [
    "## VI - Generative Adversarial Network (GAN) <a class=\"anchor\" id=\"chapter6\"></a>\n",
    "\n",
    "[Retour Sommaire](#sommaire)"
   ]
  },
  {
   "cell_type": "code",
   "execution_count": null,
   "metadata": {},
   "outputs": [],
   "source": [
    "import warnings\n",
    "warnings.filterwarnings('ignore')"
   ]
  },
  {
   "cell_type": "code",
   "execution_count": null,
   "metadata": {},
   "outputs": [],
   "source": [
    "#Faire le tri avec les imports initiaux \n",
    "import pandas as pd\n",
    "import numpy as np\n",
    "from sklearn.preprocessing import MinMaxScaler\n",
    "import tensorflow as tf\n",
    "from pathlib import Path\n",
    "from tqdm import tqdm\n",
    "\n",
    "from tensorflow.keras.models import Sequential, Model\n",
    "from tensorflow.keras.layers import GRU, Dense, RNN, GRUCell, Input\n",
    "from tensorflow.keras.losses import BinaryCrossentropy, MeanSquaredError\n",
    "from tensorflow.keras.optimizers import Adam\n",
    "from tensorflow.keras.callbacks import TensorBoard\n",
    "from tensorflow.keras.utils import plot_model\n",
    "\n",
    "import matplotlib.pyplot as plt\n",
    "import seaborn as sns"
   ]
  },
  {
   "cell_type": "markdown",
   "metadata": {},
   "source": [
    "Ci dessous, un condensé du code GAN. Il est préférable de le faire tourner sur la version Google Collab prévue à cet effet !\n"
   ]
  },
  {
   "cell_type": "code",
   "execution_count": null,
   "metadata": {},
   "outputs": [],
   "source": [
    "df = Stocks\n",
    "\n",
    "l_title = [Stocks.columns[i] for i in range(len(Stocks.columns))]\n",
    "axes = df.div(df.iloc[0]).plot(subplots=True, figsize=(14, 14), layout=(10, 2), title= l_title, \n",
    "                               legend=False, rot=0, lw=1, color='k')\n",
    "for ax in axes.flatten():\n",
    "    ax.set_xlabel('')\n",
    "\n",
    "plt.suptitle('Normalized Price Series')\n",
    "plt.gcf().tight_layout()\n",
    "sns.despine()"
   ]
  },
  {
   "cell_type": "code",
   "execution_count": null,
   "metadata": {},
   "outputs": [],
   "source": [
    "# Correlation\n",
    "sns.clustermap(df.corr(), annot=True, fmt='.2f', cmap=sns.diverging_palette(h_neg=20, h_pos=220), center=0)"
   ]
  },
  {
   "cell_type": "code",
   "execution_count": null,
   "metadata": {},
   "outputs": [],
   "source": [
    "# Normalize data\n",
    "scaler = MinMaxScaler()\n",
    "scaled_data = scaler.fit_transform(df).astype(np.float32)\n",
    "\n",
    "#Formula MinMaxScaler\n",
    "#X_std = (X - X.min(axis=0)) / (X.max(axis=0) - X.min(axis=0))\n",
    "#X_scaled = X_std * (max - min) + min"
   ]
  },
  {
   "cell_type": "code",
   "execution_count": null,
   "metadata": {},
   "outputs": [],
   "source": [
    "# Create rolling window sequences containing overlapping sequences \n",
    "seq_len = 24\n",
    "data = []\n",
    "\n",
    "for i in range(len(df) - seq_len):\n",
    "    data.append(scaled_data[i:i + seq_len])\n",
    "\n",
    "n_windows = len(data)\n",
    "\n",
    "\n",
    "# Create tf dataset\n",
    "batch_size = 128\n",
    "\n",
    "real_series = (tf.data.Dataset.from_tensor_slices(data).shuffle(buffer_size=n_windows).batch(batch_size))\n",
    "real_series_iter = iter(real_series.repeat())\n",
    "\n",
    "# Create a random series generator\n",
    "n_seq = len(df.columns)               #ATTENTION ! Il faut mettre ici le nbr de series que l'on étudie\n",
    "                                      #Ici = 2 (STOXX50 et S&P500) - Penser à modifier si besoin\n",
    "\n",
    "def make_random_data():\n",
    "    while True:\n",
    "        yield np.random.uniform(low=0, high=1, size=(seq_len, n_seq))\n",
    "\n",
    "\n",
    "random_series = iter(tf.data.Dataset.from_generator(make_random_data, output_types=tf.float32).batch(batch_size).repeat())\n",
    "\n",
    "# Network Parameters\n",
    "hidden_dim = 16\n",
    "num_layers = 3"
   ]
  },
  {
   "cell_type": "markdown",
   "metadata": {},
   "source": [
    "Apprentissage des models"
   ]
  },
  {
   "cell_type": "code",
   "execution_count": null,
   "metadata": {},
   "outputs": [],
   "source": [
    "writer = tf.summary.create_file_writer(log_dir.as_posix())\n",
    "\n",
    "# input placeholder\n",
    "X = Input(shape=[seq_len, n_seq], name='RealData')\n",
    "Z = Input(shape=[seq_len, n_seq], name='RandomData')\n",
    "\n",
    "\n",
    "# Autoencoder -> rnn -> Reconstruction loss\n",
    "def make_rnn(n_layers, hidden_units, output_units, name):\n",
    "    return Sequential([GRU(units=hidden_units, return_sequences=True, name=f'GRU_{i + 1}') for i in range(n_layers)] +\n",
    "                      [Dense(units=output_units, activation='sigmoid', name='OUT')], name=name)\n",
    "\n",
    "embedder = make_rnn(n_layers=3, hidden_units=hidden_dim, output_units=hidden_dim, name='Embedder')\n",
    "\n",
    "recovery = make_rnn(n_layers=3, hidden_units=hidden_dim, output_units=n_seq, name='Recovery')\n",
    "\n",
    "# Adversarial network -> unsupervised learning part -> Unsupervised Loss\n",
    "generator = make_rnn(n_layers=3, hidden_units=hidden_dim, output_units=hidden_dim, name='Generator')\n",
    "\n",
    "discriminator = make_rnn(n_layers=3, hidden_units=hidden_dim, output_units=1, name='Discriminator')\n",
    "\n",
    "supervisor = make_rnn(n_layers=2, hidden_units=hidden_dim, output_units=hidden_dim, name='Supervisor')\n",
    "\n",
    "\n",
    "# Training - Settings\n",
    "train_steps = 10000\n",
    "gamma = 1\n",
    "\n",
    "# Generic Loss Functions\n",
    "mse = MeanSquaredError()\n",
    "bce = BinaryCrossentropy()\n",
    "\n",
    "# Part 1 - Autoencoder training\n",
    "H = embedder(X)\n",
    "X_tilde = recovery(H)\n",
    "\n",
    "autoencoder = Model(inputs=X, outputs=X_tilde, name='Autoencoder')\n",
    "\n",
    "autoencoder_optimizer = Adam()\n",
    "\n",
    "@tf.function\n",
    "def train_autoencoder_init(x):\n",
    "    with tf.GradientTape() as tape:\n",
    "        x_tilde = autoencoder(x)\n",
    "        embedding_loss_t0 = mse(x, x_tilde)\n",
    "        e_loss_0 = 10 * tf.sqrt(embedding_loss_t0)\n",
    "\n",
    "    var_list = embedder.trainable_variables + recovery.trainable_variables\n",
    "    gradients = tape.gradient(e_loss_0, var_list)\n",
    "    autoencoder_optimizer.apply_gradients(zip(gradients, var_list))\n",
    "    \n",
    "    return tf.sqrt(embedding_loss_t0)\n",
    "\n",
    "\n",
    "for step in tqdm(range(train_steps)):\n",
    "    X_ = next(real_series_iter)\n",
    "    step_e_loss_t0 = train_autoencoder_init(X_)\n",
    "    with writer.as_default():\n",
    "        tf.summary.scalar('Loss Autoencoder Init', step_e_loss_t0, step=step)\n",
    "        \n",
    "        \n",
    "# Part 2 supervised learning\n",
    "\n",
    "supervisor_optimizer = Adam()\n",
    "\n",
    "@tf.function\n",
    "def train_supervisor(x):\n",
    "    with tf.GradientTape() as tape:\n",
    "        h = embedder(x)\n",
    "        h_hat_supervised = supervisor(h)\n",
    "        g_loss_s = mse(h[:, 1:, :], h_hat_supervised[:, 1:, :])\n",
    "\n",
    "    var_list = supervisor.trainable_variables\n",
    "    gradients = tape.gradient(g_loss_s, var_list)\n",
    "    supervisor_optimizer.apply_gradients(zip(gradients, var_list))\n",
    "    \n",
    "    return g_loss_s\n",
    "\n",
    "for step in tqdm(range(train_steps)):\n",
    "    X_ = next(real_series_iter)\n",
    "    step_g_loss_s = train_supervisor(X_)\n",
    "    with writer.as_default():\n",
    "        tf.summary.scalar('Loss Generator Supervised Init', step_g_loss_s, step=step)"
   ]
  },
  {
   "cell_type": "code",
   "execution_count": null,
   "metadata": {},
   "outputs": [],
   "source": [
    "# Sauvegarde du model de supervision \n",
    "supervisor.save(log_dir / 'supervisor')\n",
    "supervisor.save('supervisor_h5.h5')\n"
   ]
  },
  {
   "cell_type": "code",
   "execution_count": null,
   "metadata": {},
   "outputs": [],
   "source": [
    "# Joint training - Generator - Adversarial Architecture - Supervised\n",
    "E_hat = generator(Z)\n",
    "H_hat = supervisor(E_hat)\n",
    "Y_fake = discriminator(H_hat)\n",
    "\n",
    "adversarial_supervised = Model(inputs=Z, outputs=Y_fake, name='AdversarialNetSupervised')\n",
    "\n",
    "# Adversarial Architecture in Latent Space\n",
    "Y_fake_e = discriminator(E_hat)\n",
    "\n",
    "adversarial_emb = Model(inputs=Z, outputs=Y_fake_e, name='AdversarialNet')\n",
    "\n",
    "# Mean & Variance Loss\n",
    "X_hat = recovery(H_hat)\n",
    "synthetic_data = Model(inputs=Z, outputs=X_hat, name='SyntheticData')\n",
    "\n",
    "def get_generator_moment_loss(y_true, y_pred):\n",
    "    y_true_mean, y_true_var = tf.nn.moments(x=y_true, axes=[0])\n",
    "    y_pred_mean, y_pred_var = tf.nn.moments(x=y_pred, axes=[0])\n",
    "    g_loss_mean = tf.reduce_mean(tf.abs(y_true_mean - y_pred_mean))\n",
    "    g_loss_var = tf.reduce_mean(tf.abs(tf.sqrt(y_true_var + 1e-6) - tf.sqrt(y_pred_var + 1e-6)))\n",
    "    return g_loss_mean + g_loss_var\n",
    "\n",
    "# Discriminator\n",
    "Y_real = discriminator(H)\n",
    "discriminator_model = Model(inputs=X, outputs=Y_real, name='DiscriminatorReal')\n",
    "\n",
    "# Optimizer\n",
    "generator_optimizer = Adam()\n",
    "discriminator_optimizer = Adam()\n",
    "embedding_optimizer = Adam()\n",
    "\n",
    "\n",
    "# Generator Train Step\n",
    "\n",
    "@tf.function\n",
    "def train_generator(x, z):\n",
    "    with tf.GradientTape() as tape:\n",
    "        y_fake = adversarial_supervised(z)\n",
    "        generator_loss_unsupervised = bce(y_true=tf.ones_like(y_fake), y_pred=y_fake)\n",
    "\n",
    "        y_fake_e = adversarial_emb(z)\n",
    "        generator_loss_unsupervised_e = bce(y_true=tf.ones_like(y_fake_e), y_pred=y_fake_e)\n",
    "        h = embedder(x)\n",
    "        h_hat_supervised = supervisor(h)\n",
    "        generator_loss_supervised = mse(h[:, 1:, :], h_hat_supervised[:, 1:, :])\n",
    "\n",
    "        x_hat = synthetic_data(z)\n",
    "        generator_moment_loss = get_generator_moment_loss(x, x_hat)\n",
    "\n",
    "        generator_loss = (generator_loss_unsupervised + generator_loss_unsupervised_e + \n",
    "                          100 * tf.sqrt(generator_loss_supervised) + 100 * generator_moment_loss)\n",
    "\n",
    "    var_list = generator.trainable_variables + supervisor.trainable_variables\n",
    "    gradients = tape.gradient(generator_loss, var_list)\n",
    "    generator_optimizer.apply_gradients(zip(gradients, var_list))\n",
    "    return generator_loss_unsupervised, generator_loss_supervised, generator_moment_loss\n",
    "\n",
    "\n",
    "# Embedding Train Step\n",
    "@tf.function\n",
    "def train_embedder(x):\n",
    "    with tf.GradientTape() as tape:\n",
    "        h = embedder(x)\n",
    "        h_hat_supervised = supervisor(h)\n",
    "        generator_loss_supervised = mse(h[:, 1:, :], h_hat_supervised[:, 1:, :])\n",
    "\n",
    "        x_tilde = autoencoder(x)\n",
    "        embedding_loss_t0 = mse(x, x_tilde)\n",
    "        e_loss = 10 * tf.sqrt(embedding_loss_t0) + 0.1 * generator_loss_supervised\n",
    "\n",
    "    var_list = embedder.trainable_variables + recovery.trainable_variables\n",
    "    gradients = tape.gradient(e_loss, var_list)\n",
    "    embedding_optimizer.apply_gradients(zip(gradients, var_list))\n",
    "    return tf.sqrt(embedding_loss_t0)\n",
    "\n",
    "# Discriminator Train Step\n",
    "\n",
    "def get_discriminator_loss(x, z):\n",
    "    y_real = discriminator_model(x)\n",
    "    discriminator_loss_real = bce(y_true=tf.ones_like(y_real), y_pred=y_real)\n",
    "\n",
    "    y_fake = adversarial_supervised(z)\n",
    "    discriminator_loss_fake = bce(y_true=tf.zeros_like(y_fake), y_pred=y_fake)\n",
    "\n",
    "    y_fake_e = adversarial_emb(z)\n",
    "    discriminator_loss_fake_e = bce(y_true=tf.zeros_like(y_fake_e), y_pred=y_fake_e)\n",
    "    return (discriminator_loss_real + discriminator_loss_fake + gamma * discriminator_loss_fake_e)\n",
    "\n",
    "@tf.function\n",
    "def train_discriminator(x, z):\n",
    "    with tf.GradientTape() as tape:\n",
    "        discriminator_loss = get_discriminator_loss(x, z)\n",
    "\n",
    "    var_list = discriminator.trainable_variables\n",
    "    gradients = tape.gradient(discriminator_loss, var_list)\n",
    "    discriminator_optimizer.apply_gradients(zip(gradients, var_list))\n",
    "    return discriminator_loss\n",
    "\n",
    "#############################################################################################################\n",
    "################################### Training Loop ###########################################################\n",
    "#############################################################################################################\n",
    "\n",
    "step_g_loss_u = step_g_loss_s = step_g_loss_v = step_e_loss_t0 = step_d_loss = 0\n",
    "for step in range(train_steps):\n",
    "    # Train generator (twice as often as discriminator)\n",
    "    for kk in range(2):\n",
    "        X_ = next(real_series_iter)\n",
    "        Z_ = next(random_series)\n",
    "\n",
    "        # Train generator\n",
    "        step_g_loss_u, step_g_loss_s, step_g_loss_v = train_generator(X_, Z_)\n",
    "        # Train embedder\n",
    "        step_e_loss_t0 = train_embedder(X_)\n",
    "\n",
    "    X_ = next(real_series_iter)\n",
    "    Z_ = next(random_series)\n",
    "    step_d_loss = get_discriminator_loss(X_, Z_)\n",
    "    if step_d_loss > 0.15:\n",
    "        step_d_loss = train_discriminator(X_, Z_)\n",
    "\n",
    "    if step % 1000 == 0:\n",
    "        print(f'{step:6,.0f} | d_loss: {step_d_loss:6.4f} | g_loss_u: {step_g_loss_u:6.4f} | '\n",
    "              f'g_loss_s: {step_g_loss_s:6.4f} | g_loss_v: {step_g_loss_v:6.4f} | e_loss_t0: {step_e_loss_t0:6.4f}')\n",
    "\n",
    "    with writer.as_default():\n",
    "        tf.summary.scalar('G Loss S', step_g_loss_s, step=step)\n",
    "        tf.summary.scalar('G Loss U', step_g_loss_u, step=step)\n",
    "        tf.summary.scalar('G Loss V', step_g_loss_v, step=step)\n",
    "        tf.summary.scalar('E Loss T0', step_e_loss_t0, step=step)\n",
    "        tf.summary.scalar('D Loss', step_d_loss, step=step)\n"
   ]
  },
  {
   "cell_type": "code",
   "execution_count": null,
   "metadata": {},
   "outputs": [],
   "source": [
    "# SAVE MODEL - Persist Synthetic Data Generator\n",
    "synthetic_data.save(log_dir / 'synthetic_data')\n",
    "\n",
    "synthetic_data.save('synthetic_data_h5.h5')\n",
    "from google.colab import files\n",
    "files.download('synthetic_data_h5.h5')"
   ]
  },
  {
   "cell_type": "markdown",
   "metadata": {},
   "source": [
    "Génération des résultats"
   ]
  },
  {
   "cell_type": "code",
   "execution_count": null,
   "metadata": {},
   "outputs": [],
   "source": [
    "# Generate paths of Synthetic Data\n",
    "nb_paths = 500\n",
    "paths = []\n",
    "for n in range(nb_paths):\n",
    "    generated_data = []\n",
    "    for i in range(int(n_windows / batch_size)):\n",
    "        Z_ = next(random_series)\n",
    "        d = synthetic_data(Z_)\n",
    "        generated_data.append(d)\n",
    "    generated_data = np.array(np.vstack(generated_data))\n",
    "    generated_data = (scaler.inverse_transform(generated_data.reshape(-1, n_seq)).reshape(-1, seq_len, n_seq))\n",
    "    paths.append(generated_data)"
   ]
  },
  {
   "cell_type": "code",
   "execution_count": null,
   "metadata": {},
   "outputs": [],
   "source": [
    "# SAVE MODEL - Persist Synthetic Data Generator\n",
    "generated_data.save(log_dir / generated_data.npy)"
   ]
  },
  {
   "cell_type": "code",
   "execution_count": null,
   "metadata": {},
   "outputs": [],
   "source": [
    "# Vérification de la taille de la matrice generated data\n",
    "print(len(generated_data))\n",
    "print(len(generated_data[0]))\n",
    "print(len(generated_data[0][0]))"
   ]
  },
  {
   "cell_type": "code",
   "execution_count": null,
   "metadata": {},
   "outputs": [],
   "source": []
  },
  {
   "cell_type": "code",
   "execution_count": null,
   "metadata": {},
   "outputs": [],
   "source": []
  }
 ],
 "metadata": {
  "kernelspec": {
   "display_name": "Python 3",
   "language": "python",
   "name": "python3"
  },
  "language_info": {
   "codemirror_mode": {
    "name": "ipython",
    "version": 3
   },
   "file_extension": ".py",
   "mimetype": "text/x-python",
   "name": "python",
   "nbconvert_exporter": "python",
   "pygments_lexer": "ipython3",
   "version": "3.8.3"
  }
 },
 "nbformat": 4,
 "nbformat_minor": 2
}
